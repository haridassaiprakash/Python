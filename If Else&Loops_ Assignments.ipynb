{
  "nbformat": 4,
  "nbformat_minor": 0,
  "metadata": {
    "colab": {
      "name": "Untitled4.ipynb",
      "provenance": []
    },
    "kernelspec": {
      "name": "python3",
      "display_name": "Python 3"
    },
    "language_info": {
      "name": "python"
    }
  },
  "cells": [
    {
      "cell_type": "markdown",
      "source": [
        "Assignments"
      ],
      "metadata": {
        "id": "qelRj6IiQyuS"
      }
    },
    {
      "cell_type": "code",
      "source": [
        "#1. Print \"Hello Netzwerk Academy\" if a is greater than b.\n",
        "a=10\n",
        "b=5\n",
        "if a>b:\n",
        "   print(\"Hello Netzwerk Academy\")"
      ],
      "metadata": {
        "colab": {
          "base_uri": "https://localhost:8080/"
        },
        "id": "hJmcFQKIQ4eV",
        "outputId": "3e66da0a-c359-4988-d5c9-20d05f9412f4"
      },
      "execution_count": 2,
      "outputs": [
        {
          "output_type": "stream",
          "name": "stdout",
          "text": [
            "Hello Netzwerk Academy\n"
          ]
        }
      ]
    },
    {
      "cell_type": "code",
      "source": [
        "#2. Print \"Hello Netzwerk Academy\" if a is not equal to b.\n",
        "a=4\n",
        "b=5\n",
        "if a!=b:\n",
        "   print(\"Hello Netzwerk Academy\")"
      ],
      "metadata": {
        "colab": {
          "base_uri": "https://localhost:8080/"
        },
        "id": "cvJha_cDRVnU",
        "outputId": "7c31f846-696e-412e-9ccd-af0850da84c5"
      },
      "execution_count": 4,
      "outputs": [
        {
          "output_type": "stream",
          "name": "stdout",
          "text": [
            "Hello Netzwerk Academy\n"
          ]
        }
      ]
    },
    {
      "cell_type": "code",
      "source": [
        "#3. Print \"Yes\" if a is equal to b, otherwise print \"No\".\n",
        "a=100\n",
        "b=101\n",
        "if a==b:\n",
        "  print(\"Yes\")\n",
        "else:\n",
        "    print(\"No\")"
      ],
      "metadata": {
        "colab": {
          "base_uri": "https://localhost:8080/"
        },
        "id": "OYceB2W0Rvaz",
        "outputId": "2b4675fa-4772-4c36-d032-915cd6f881c1"
      },
      "execution_count": 5,
      "outputs": [
        {
          "output_type": "stream",
          "name": "stdout",
          "text": [
            "No\n"
          ]
        }
      ]
    },
    {
      "cell_type": "code",
      "source": [
        "#4. Print \"1\" if a is equal to b, print \"2\" if a is greater than b, otherwise print \"3\".\n",
        "a=8\n",
        "b=4\n",
        "if a==b:\n",
        "  print(\"1\")\n",
        "elif a>b:\n",
        "    print(\"2\")\n",
        "else: \n",
        "      print(\"3\")"
      ],
      "metadata": {
        "colab": {
          "base_uri": "https://localhost:8080/"
        },
        "id": "L198szSmSS3R",
        "outputId": "1852b220-2c94-4953-8e59-cb24be66df24"
      },
      "execution_count": 8,
      "outputs": [
        {
          "output_type": "stream",
          "name": "stdout",
          "text": [
            "2\n"
          ]
        }
      ]
    },
    {
      "cell_type": "code",
      "source": [
        "#5. Print \"Hello\" if a is equal to b, and c is equal to d.\n",
        "a=4\n",
        "b=4\n",
        "c=5\n",
        "d=5\n",
        "if a==b and c==d:\n",
        "  print(\"Hello\")"
      ],
      "metadata": {
        "colab": {
          "base_uri": "https://localhost:8080/"
        },
        "id": "E6MtabPRSmBr",
        "outputId": "a2ae6020-4034-4c38-ff35-37428cadfce9"
      },
      "execution_count": 9,
      "outputs": [
        {
          "output_type": "stream",
          "name": "stdout",
          "text": [
            "Hello\n"
          ]
        }
      ]
    },
    {
      "cell_type": "code",
      "source": [
        "#6. Print \"Hello\" if a is equal to b, or if c is equal to d.\n",
        "a=2\n",
        "b=2\n",
        "c=4\n",
        "d=5\n",
        "if a==b or c==d:\n",
        "  print(\"Hello\")"
      ],
      "metadata": {
        "colab": {
          "base_uri": "https://localhost:8080/"
        },
        "id": "BqiXsFiETJav",
        "outputId": "a650078b-b65e-4434-a968-33d39ccbbfa3"
      },
      "execution_count": 10,
      "outputs": [
        {
          "output_type": "stream",
          "name": "stdout",
          "text": [
            "Hello\n"
          ]
        }
      ]
    },
    {
      "cell_type": "code",
      "source": [
        "#7. Print i as long as i is less than 8.\n",
        "i=1\n",
        "while i<8:\n",
        "  print(i)\n",
        "  i=i+1"
      ],
      "metadata": {
        "colab": {
          "base_uri": "https://localhost:8080/"
        },
        "id": "3VEiZrIZTkz0",
        "outputId": "c1636771-49e9-4f21-f576-9f45563828b0"
      },
      "execution_count": 11,
      "outputs": [
        {
          "output_type": "stream",
          "name": "stdout",
          "text": [
            "1\n",
            "2\n",
            "3\n",
            "4\n",
            "5\n",
            "6\n",
            "7\n"
          ]
        }
      ]
    },
    {
      "cell_type": "code",
      "source": [
        "#8. Loop through the items in the fruits list.\n",
        "fruits = [\"apple\", \"banana\", \"mango\"]\n",
        "for x in fruits:\n",
        " print(x)"
      ],
      "metadata": {
        "colab": {
          "base_uri": "https://localhost:8080/"
        },
        "id": "LzU1FWfYT9Z4",
        "outputId": "3880629f-01b7-48fa-a858-1cf7959a3e10"
      },
      "execution_count": 14,
      "outputs": [
        {
          "output_type": "stream",
          "name": "stdout",
          "text": [
            "apple\n",
            "banana\n",
            "mango\n"
          ]
        }
      ]
    },
    {
      "cell_type": "code",
      "source": [
        "#9. In the loop, when the item value is \"banana\", jump directly to the next item.\n",
        "fruits = [\"apple\", \"banana\", \"mango\"]\n",
        "for x in fruits:\n",
        "  if x==\"banana\":\n",
        "    continue \n",
        "print(x)"
      ],
      "metadata": {
        "colab": {
          "base_uri": "https://localhost:8080/"
        },
        "id": "zfH0S67vUXlg",
        "outputId": "1ebc9d8f-0d20-4a6c-e503-667bb0c84326"
      },
      "execution_count": 16,
      "outputs": [
        {
          "output_type": "stream",
          "name": "stdout",
          "text": [
            "mango\n"
          ]
        }
      ]
    },
    {
      "cell_type": "code",
      "source": [
        "#10. Exit the loop when x is \"banana\".\n",
        "fruits = [\"apple\", \"banana\", \"mango\"]\n",
        "for x in fruits:\n",
        "  print(x)\n",
        "  if x==\"banana\":\n",
        "   break"
      ],
      "metadata": {
        "colab": {
          "base_uri": "https://localhost:8080/"
        },
        "id": "WBsqk-Q3U2_d",
        "outputId": "54e8a639-89d0-48aa-9908-6864d48dcdbb"
      },
      "execution_count": 21,
      "outputs": [
        {
          "output_type": "stream",
          "name": "stdout",
          "text": [
            "apple\n",
            "banana\n"
          ]
        }
      ]
    }
  ]
}