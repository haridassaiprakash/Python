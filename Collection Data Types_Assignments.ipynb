{
  "nbformat": 4,
  "nbformat_minor": 0,
  "metadata": {
    "colab": {
      "name": "Untitled7.ipynb",
      "provenance": []
    },
    "kernelspec": {
      "name": "python3",
      "display_name": "Python 3"
    },
    "language_info": {
      "name": "python"
    }
  },
  "cells": [
    {
      "cell_type": "code",
      "execution_count": null,
      "metadata": {
        "id": "aN3VcQN4fo7P"
      },
      "outputs": [],
      "source": [
        ""
      ]
    },
    {
      "cell_type": "markdown",
      "source": [
        "Assignments"
      ],
      "metadata": {
        "id": "jaLNAloAfqNq"
      }
    },
    {
      "cell_type": "code",
      "source": [
        "#Check the length and data types of the following:\n",
        "Mydata1 = [\"Mango\", True, 7, 8, 9]\n",
        "print(len(Mydata1))\n",
        "print(type(Mydata1))\n",
        "\n",
        "Mydata2 = [1, 5, 7, 9, 3]\n",
        "print(len(Mydata2))\n",
        "print(type(Mydata2))\n",
        "\n",
        "Mydata3 = (\"Mango\", 700, 1000, \"Banana\")\n",
        "print(len(Mydata3))\n",
        "print(type(Mydata3))\n",
        "\n",
        "Mydata4 = {True, False, False}\n",
        "print(len(Mydata4))\n",
        "print(type(Mydata4))"
      ],
      "metadata": {
        "colab": {
          "base_uri": "https://localhost:8080/"
        },
        "id": "qVbEhIpSfsmA",
        "outputId": "68f2933b-6084-4ffa-92a3-78da7b0b28d7"
      },
      "execution_count": 2,
      "outputs": [
        {
          "output_type": "stream",
          "name": "stdout",
          "text": [
            "5\n",
            "<class 'list'>\n",
            "5\n",
            "<class 'list'>\n",
            "4\n",
            "<class 'tuple'>\n",
            "2\n",
            "<class 'set'>\n"
          ]
        }
      ]
    },
    {
      "cell_type": "code",
      "source": [
        "\n",
        "#Create and print a list containing 4 elements of different data types and check the length of the list.\n",
        "list=(\"abc\",34,True,\"male\")\n",
        "print(type(list))\n",
        "print(len(list))"
      ],
      "metadata": {
        "colab": {
          "base_uri": "https://localhost:8080/"
        },
        "id": "xzBWCHveg4mh",
        "outputId": "05c4ab0a-99aa-4a54-b567-810b5a194332"
      },
      "execution_count": 4,
      "outputs": [
        {
          "output_type": "stream",
          "name": "stdout",
          "text": [
            "<class 'tuple'>\n",
            "4\n"
          ]
        }
      ]
    },
    {
      "cell_type": "code",
      "source": [
        "\n",
        "#Create & print a dictionary conataining the following values:\n",
        "thisdict={\n",
        "\"Employee id\": \"100041\",\n",
        "\"Employee name\": \"Rohan\",\n",
        "\"Country\": \"India\"\n",
        "}\n",
        "print(thisdict)"
      ],
      "metadata": {
        "colab": {
          "base_uri": "https://localhost:8080/"
        },
        "id": "oIb2DkRMhha-",
        "outputId": "edc4e702-ad7a-436c-b0fd-9018d032ac70"
      },
      "execution_count": 6,
      "outputs": [
        {
          "output_type": "stream",
          "name": "stdout",
          "text": [
            "{'Employee id': '100041', 'Employee name': 'Rohan', 'Country': 'India'}\n"
          ]
        }
      ]
    },
    {
      "cell_type": "markdown",
      "source": [
        "What is the difference between\n",
        "1: List and tuple\n",
        "List-It is changeable.\n",
        "Tuple-It is unchangeable."
      ],
      "metadata": {
        "id": "1gQohdFOiDRA"
      }
    },
    {
      "cell_type": "markdown",
      "source": [
        "2: Set and dictionary \n",
        "Set-It is unordered, unchangeable.\n",
        "Dictionary- It is ordered, changeable."
      ],
      "metadata": {
        "id": "--eZYFwSiR4F"
      }
    },
    {
      "cell_type": "markdown",
      "source": [
        "3: List and set\n",
        "List-It is changeable.\n",
        "Set-It is unchangeable.\n"
      ],
      "metadata": {
        "id": "JWFY2P1Finvh"
      }
    }
  ]
}