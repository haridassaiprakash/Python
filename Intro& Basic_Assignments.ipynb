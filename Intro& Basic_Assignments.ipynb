{
  "nbformat": 4,
  "nbformat_minor": 0,
  "metadata": {
    "colab": {
      "name": "Untitled5.ipynb",
      "provenance": []
    },
    "kernelspec": {
      "name": "python3",
      "display_name": "Python 3"
    },
    "language_info": {
      "name": "python"
    }
  },
  "cells": [
    {
      "cell_type": "markdown",
      "source": [
        "Assignments"
      ],
      "metadata": {
        "id": "8nxaMknoWsGu"
      }
    },
    {
      "cell_type": "code",
      "source": [
        "#1.) Insert the missing indentation to make the code correct:\n",
        "if 5 > 2:\n",
        " print(\"Five is greater than two!\")"
      ],
      "metadata": {
        "colab": {
          "base_uri": "https://localhost:8080/"
        },
        "id": "6Fq3F2MGWuuC",
        "outputId": "c832dfbf-43f1-48b1-de9b-ae551fb1b2ed"
      },
      "execution_count": 1,
      "outputs": [
        {
          "output_type": "stream",
          "name": "stdout",
          "text": [
            "Five is greater than two!\n"
          ]
        }
      ]
    },
    {
      "cell_type": "code",
      "source": [
        "#2. Create a variable named carname and assign the value Volvo to it and then print the variable.\n",
        "carname = \"Volvo\"\n",
        "print(\"carname\")"
      ],
      "metadata": {
        "colab": {
          "base_uri": "https://localhost:8080/"
        },
        "id": "CmQMGMARW5-B",
        "outputId": "e3218011-12d9-4b1d-a1f1-0b7df9645905"
      },
      "execution_count": 3,
      "outputs": [
        {
          "output_type": "stream",
          "name": "stdout",
          "text": [
            "carname\n"
          ]
        }
      ]
    },
    {
      "cell_type": "code",
      "source": [
        "#3. Create a variable named x and assign the value 50 to it and print the variable.\n",
        "x=50\n",
        "print(\"X\")"
      ],
      "metadata": {
        "colab": {
          "base_uri": "https://localhost:8080/"
        },
        "id": "PLVx4qDLXLBb",
        "outputId": "6de9777f-e556-4225-e309-db0093da95da"
      },
      "execution_count": 4,
      "outputs": [
        {
          "output_type": "stream",
          "name": "stdout",
          "text": [
            "X\n"
          ]
        }
      ]
    },
    {
      "cell_type": "code",
      "source": [
        "#4. Display the sum of 10 + 30, using two variables: x and y.\n",
        "x=10\n",
        "y=30\n",
        "print(x+y)"
      ],
      "metadata": {
        "colab": {
          "base_uri": "https://localhost:8080/"
        },
        "id": "c6ZHxm9KXaZr",
        "outputId": "f19e5784-fd4f-47e3-f9df-7ce866457bd1"
      },
      "execution_count": 5,
      "outputs": [
        {
          "output_type": "stream",
          "name": "stdout",
          "text": [
            "40\n"
          ]
        }
      ]
    },
    {
      "cell_type": "code",
      "source": [
        "#5. Create a variable called z, assign x + y to it where x = 50 & y=100, and display the result.\n",
        "x=50\n",
        "y=100\n",
        "z=x+y\n",
        "print(z)"
      ],
      "metadata": {
        "colab": {
          "base_uri": "https://localhost:8080/"
        },
        "id": "-87d4ZWNXm9Y",
        "outputId": "203534b6-b13e-4a8a-e306-cadfea1f7e50"
      },
      "execution_count": 6,
      "outputs": [
        {
          "output_type": "stream",
          "name": "stdout",
          "text": [
            "150\n"
          ]
        }
      ]
    },
    {
      "cell_type": "code",
      "source": [
        "#6. Print the data Types of the following:\n",
        "x = \"Hello Python\"\n",
        "print(type(x))\t\t\n",
        "x = 55\t\n",
        "print(type(x))\t\n",
        "x = 100.5\t\n",
        "print(type(x))\t\n",
        "x = 5j\n",
        "print(type(x))\t\t\n",
        "x = [\"apple\", \"banana\", \"mango\"]\t\n",
        "print(type(x))\t\t\n",
        "x = (\"apple\", \"banana\", \"mango\")\n",
        "print(type(x))\t\n",
        "x = {\"name\" : \"rohan\", \"age\" : 25}\t\n",
        "print(type(x))\t\n",
        "x = {\"apple\", \"banana\", \"mango\"}\n",
        "print(type(x))\t"
      ],
      "metadata": {
        "colab": {
          "base_uri": "https://localhost:8080/"
        },
        "id": "HfQ4l-8eX9Wx",
        "outputId": "cc09c2a4-5542-4a31-dd22-fe1d4e24ba7a"
      },
      "execution_count": 7,
      "outputs": [
        {
          "output_type": "stream",
          "name": "stdout",
          "text": [
            "<class 'str'>\n",
            "<class 'int'>\n",
            "<class 'float'>\n",
            "<class 'complex'>\n",
            "<class 'list'>\n",
            "<class 'tuple'>\n",
            "<class 'dict'>\n",
            "<class 'set'>\n"
          ]
        }
      ]
    },
    {
      "cell_type": "code",
      "source": [
        "#7. Use a multiline string to make the a multi line comment:\n",
        "a=\"\"\"This is a python multiline comment\n",
        "written in \n",
        "more that just one line\"\"\"\n",
        "print(a)"
      ],
      "metadata": {
        "colab": {
          "base_uri": "https://localhost:8080/"
        },
        "id": "FVSnFtohYhNG",
        "outputId": "67794d43-d6db-4fef-9755-97a3b44f5556"
      },
      "execution_count": 8,
      "outputs": [
        {
          "output_type": "stream",
          "name": "stdout",
          "text": [
            "This is a python multiline comment\n",
            "written in \n",
            "more that just one line\n"
          ]
        }
      ]
    },
    {
      "cell_type": "code",
      "source": [
        "#8. Give examples of legal variables and illegal variables.\n",
        "#legal variables\n",
        "#abhishek\n",
        "#ABHISHEK\n",
        "\n",
        "#illegal variables\n",
        "#2abhishek\n",
        "#abhi-shek"
      ],
      "metadata": {
        "id": "aJEyP0GpYt2V"
      },
      "execution_count": null,
      "outputs": []
    },
    {
      "cell_type": "code",
      "source": [
        "#9. Exercise:\n",
        "#Find the  the length of the string.\n",
        "x = \"Greetings of the day\"\n",
        "print(len(x))"
      ],
      "metadata": {
        "colab": {
          "base_uri": "https://localhost:8080/"
        },
        "id": "mfNSD6Q5ZE6w",
        "outputId": "b2b00b73-406a-40e9-fc61-580ffd1bc0f8"
      },
      "execution_count": 12,
      "outputs": [
        {
          "output_type": "stream",
          "name": "stdout",
          "text": [
            "20\n"
          ]
        }
      ]
    },
    {
      "cell_type": "code",
      "source": [
        "#10. Get the first character of the string txt.\n",
        "txt = \"Hello Netzwerk Academy\"\n",
        "print(txt[1])"
      ],
      "metadata": {
        "colab": {
          "base_uri": "https://localhost:8080/"
        },
        "id": "7hIdblcxZif-",
        "outputId": "94a03046-ff0f-425b-a9fe-a215658afe9b"
      },
      "execution_count": 15,
      "outputs": [
        {
          "output_type": "stream",
          "name": "stdout",
          "text": [
            "e\n"
          ]
        }
      ]
    },
    {
      "cell_type": "code",
      "source": [
        "#11. Get the characters from index 2 to index 4 (llo).\n",
        "txt = \"Hello Netzwerk Academy\"\n",
        "print(txt[2:4])"
      ],
      "metadata": {
        "colab": {
          "base_uri": "https://localhost:8080/"
        },
        "id": "AWE6r3PSZxgL",
        "outputId": "64bea4ec-8137-47df-d573-88e55f79b47e"
      },
      "execution_count": 16,
      "outputs": [
        {
          "output_type": "stream",
          "name": "stdout",
          "text": [
            "ll\n"
          ]
        }
      ]
    }
  ]
}