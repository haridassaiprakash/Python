{
 "cells": [
  {
   "cell_type": "markdown",
   "id": "adb27d8e",
   "metadata": {},
   "source": [
    "# MATPLOTLIB"
   ]
  },
  {
   "cell_type": "markdown",
   "id": "cc7e166d",
   "metadata": {},
   "source": [
    "Matplotlib is a low level graph plotting library in python that serves as a visualization utility."
   ]
  },
  {
   "cell_type": "markdown",
   "id": "c8357cf9",
   "metadata": {},
   "source": [
    "Matplotlib was created by John D. Hunter."
   ]
  },
  {
   "cell_type": "markdown",
   "id": "a39db98c",
   "metadata": {},
   "source": [
    "Matplotlib is open source and we can use it freely."
   ]
  },
  {
   "cell_type": "markdown",
   "id": "5766814a",
   "metadata": {},
   "source": [
    "Matplotlib is mostly written in python, a few segments are written in C, Objective-C and Javascript for Platform compatibility."
   ]
  },
  {
   "cell_type": "markdown",
   "id": "4a7677df",
   "metadata": {},
   "source": [
    "Matplotlib is a plotting library for the Python programming language and its numerical mathematics extension NumPy. It provides an object-oriented API for embedding plots into applications using general-purpose GUI toolkits like Tkinter, wxPython, Qt, or GTK+."
   ]
  },
  {
   "cell_type": "markdown",
   "id": "2bc5cb10",
   "metadata": {},
   "source": [
    "Some of the major Pros of Matplotlib are:"
   ]
  },
  {
   "cell_type": "markdown",
   "id": "faeeec31",
   "metadata": {},
   "source": [
    "1) Generally easy to get started for simple plots"
   ]
  },
  {
   "cell_type": "markdown",
   "id": "ae491b6d",
   "metadata": {},
   "source": [
    "2) support for custom labels and texts"
   ]
  },
  {
   "cell_type": "markdown",
   "id": "7880718b",
   "metadata": {},
   "source": [
    "3) Great control of every element in a figure"
   ]
  },
  {
   "cell_type": "markdown",
   "id": "22f57efb",
   "metadata": {},
   "source": [
    "4) High-quality output in many formats"
   ]
  },
  {
   "cell_type": "markdown",
   "id": "6038ab77",
   "metadata": {},
   "source": [
    "5) very coustomizable in general"
   ]
  },
  {
   "cell_type": "code",
   "execution_count": null,
   "id": "46e938eb",
   "metadata": {},
   "outputs": [],
   "source": [
    "import matplotlib.pyplot as plt\n",
    "\n",
    "%matplotlib inline"
   ]
  },
  {
   "cell_type": "code",
   "execution_count": null,
   "id": "76ca631e",
   "metadata": {},
   "outputs": [],
   "source": [
    "import numpy as np"
   ]
  },
  {
   "cell_type": "code",
   "execution_count": null,
   "id": "2ae17d7c",
   "metadata": {},
   "outputs": [],
   "source": [
    "## Simple Examples\n",
    "\n",
    "x=np.arange(0,10)\n",
    "y=np.arange(11,21)"
   ]
  },
  {
   "cell_type": "code",
   "execution_count": null,
   "id": "703ddfc9",
   "metadata": {},
   "outputs": [],
   "source": [
    "a=np.arange(40,50)\n",
    "b=np.arange(50,60)"
   ]
  },
  {
   "cell_type": "code",
   "execution_count": null,
   "id": "0c790e84",
   "metadata": {},
   "outputs": [],
   "source": [
    "##plotting using matplotlib \n",
    "\n",
    "##plt scatter\n",
    "\n",
    "plt.scatter(x,y,c='g')\n",
    "plt.xlabel('X axis')\n",
    "plt.ylabel('Y axis')\n",
    "plt.title('Graph in 2D')\n",
    "plt.savefig('Test.png')\n"
   ]
  },
  {
   "cell_type": "code",
   "execution_count": null,
   "id": "8ea3997c",
   "metadata": {},
   "outputs": [],
   "source": [
    "y=x*x"
   ]
  },
  {
   "cell_type": "code",
   "execution_count": null,
   "id": "b14778ee",
   "metadata": {},
   "outputs": [],
   "source": [
    "## plt plot\n",
    "\n",
    "plt.plot(x,y,'r*',linestyle='dashed',linewidth=2, markersize=12)\n",
    "plt.xlabel('X axis')\n",
    "plt.ylabel('Y axis')\n",
    "plt.title('2d Diagram')"
   ]
  },
  {
   "cell_type": "code",
   "execution_count": null,
   "id": "2aa588fa",
   "metadata": {},
   "outputs": [],
   "source": [
    "## Creating Subplots\n",
    "\n",
    "plt.subplot(2,2,1)\n",
    "plt.plot(x,y,'r--')\n",
    "plt.subplot(2,2,2)\n",
    "plt.plot(x,y,'g*--')\n",
    "plt.subplot(2,2,3)\n",
    "plt.plot(x,y,'bo')\n",
    "plt.subplot(2,2,4)\n",
    "plt.plot(x,y,'go')"
   ]
  },
  {
   "cell_type": "code",
   "execution_count": null,
   "id": "e91019a9",
   "metadata": {},
   "outputs": [],
   "source": [
    "x = np.arange(1,11) \n",
    "y = 3 * x + 5 \n",
    "plt.title(\"Matplotlib demo\") \n",
    "plt.xlabel(\"x axis caption\") \n",
    "plt.ylabel(\"y axis caption\") \n",
    "plt.plot(x,y) \n"
   ]
  },
  {
   "cell_type": "code",
   "execution_count": null,
   "id": "d74ea8d4",
   "metadata": {},
   "outputs": [],
   "source": [
    "np.pi"
   ]
  },
  {
   "cell_type": "code",
   "execution_count": null,
   "id": "52321c6c",
   "metadata": {},
   "outputs": [],
   "source": [
    "# Compute the x and y coordinates for points on a sine curve \n",
    "x = np.arange(0, 4 * np.pi, 0.1) \n",
    "y = np.sin(x) \n",
    "plt.title(\"sine wave form\") \n",
    "\n",
    "# Plot the points using matplotlib \n",
    "plt.plot(x, y) \n",
    "plt.show() "
   ]
  },
  {
   "cell_type": "code",
   "execution_count": null,
   "id": "6ff8e60e",
   "metadata": {},
   "outputs": [],
   "source": [
    "#Subplot()\n",
    "# Compute the x and y coordinates for points on sine and cosine curves \n",
    "x = np.arange(0, 5 * np.pi, 0.1) \n",
    "y_sin = np.sin(x) \n",
    "y_cos = np.cos(x)  \n",
    "   \n",
    "# Set up a subplot grid that has height 2 and width 1, \n",
    "# and set the first such subplot as active. \n",
    "plt.subplot(2, 1, 1)\n",
    "   \n",
    "# Make the first plot \n",
    "plt.plot(x, y_sin,'r--') \n",
    "plt.title('Sine')  \n",
    "   \n",
    "# Set the second subplot as active, and make the second plot. \n",
    "plt.subplot(2, 1, 2) \n",
    "plt.plot(x, y_cos,'g--') \n",
    "plt.title('Cosine')  \n",
    "   \n",
    "# Show the figure. \n",
    "plt.show()"
   ]
  },
  {
   "cell_type": "code",
   "execution_count": null,
   "id": "0b1a7607",
   "metadata": {},
   "outputs": [],
   "source": [
    "## Bar plot\n",
    "\n",
    "x = [2,8,10] \n",
    "y = [11,16,9]  \n",
    "\n",
    "x2 = [3,9,11] \n",
    "y2 = [6,15,7] \n",
    "plt.bar(x, y) \n",
    "plt.bar(x2, y2, color = 'g') \n",
    "plt.title('Bar graph') \n",
    "plt.ylabel('Y axis') \n",
    "plt.xlabel('X axis')  "
   ]
  },
  {
   "cell_type": "markdown",
   "id": "be8a8ad6",
   "metadata": {},
   "source": [
    "# Histograms"
   ]
  },
  {
   "cell_type": "code",
   "execution_count": null,
   "id": "92a414f0",
   "metadata": {},
   "outputs": [],
   "source": [
    "a = np.array([22,87,5,43,56,73,55,54,11,20,51,5,79,31,27]) \n",
    "plt.hist(a) \n",
    "plt.title(\"histogram\") \n",
    "plt.show()"
   ]
  },
  {
   "cell_type": "markdown",
   "id": "e96e07f4",
   "metadata": {},
   "source": [
    "# Box plot"
   ]
  },
  {
   "cell_type": "code",
   "execution_count": null,
   "id": "66654ce8",
   "metadata": {},
   "outputs": [],
   "source": [
    "data = [np.random.normal(0, std, 100) for std in range(1, 4)]\n",
    "\n",
    "# rectangular box plot\n",
    "plt.boxplot(data,vert=True,patch_artist=False); "
   ]
  },
  {
   "cell_type": "code",
   "execution_count": null,
   "id": "1767055c",
   "metadata": {},
   "outputs": [],
   "source": [
    "data"
   ]
  },
  {
   "cell_type": "markdown",
   "id": "b0c0232a",
   "metadata": {},
   "source": [
    "# Pie Chart"
   ]
  },
  {
   "cell_type": "code",
   "execution_count": null,
   "id": "a82743c0",
   "metadata": {},
   "outputs": [],
   "source": [
    "# Data to plot\n",
    "labels = 'Python', 'C++', 'Ruby', 'Java'\n",
    "sizes = [215, 130, 245, 210]\n",
    "colors = ['gold', 'yellowgreen', 'lightcoral', 'lightskyblue']\n",
    "explode = (0.4, 0, 0, 0)  # explode 1st slice\n",
    "\n",
    "# Plot\n",
    "plt.pie(sizes, explode=explode, labels=labels, colors=colors,autopct='%1.1f%%', shadow=False)\n",
    "\n",
    "plt.axis('equal')\n",
    "plt.show()"
   ]
  },
  {
   "cell_type": "code",
   "execution_count": null,
   "id": "7ce2108f",
   "metadata": {},
   "outputs": [],
   "source": []
  }
 ],
 "metadata": {
  "kernelspec": {
   "display_name": "Python 3",
   "language": "python",
   "name": "python3"
  },
  "language_info": {
   "codemirror_mode": {
    "name": "ipython",
    "version": 3
   },
   "file_extension": ".py",
   "mimetype": "text/x-python",
   "name": "python",
   "nbconvert_exporter": "python",
   "pygments_lexer": "ipython3",
   "version": "3.8.8"
  }
 },
 "nbformat": 4,
 "nbformat_minor": 5
}
