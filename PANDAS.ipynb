{
 "cells": [
  {
   "cell_type": "markdown",
   "id": "d1733470",
   "metadata": {},
   "source": [
    "# PANDAS"
   ]
  },
  {
   "cell_type": "markdown",
   "id": "76dcf2ae",
   "metadata": {},
   "source": [
    "Pandas is a package for data manipulation and analysis in Python. The name Pandas is derived from the econometrics term Panel Data. Pandas incorporates two additional data structures into Python, namely Pandas Series and Pandas DataFrame. These data structures allow us to work with labeled and relational data in an easy and intuitive manner. "
   ]
  },
  {
   "cell_type": "markdown",
   "id": "3aedafff",
   "metadata": {},
   "source": [
    "# WHY USE PANDAS?"
   ]
  },
  {
   "cell_type": "markdown",
   "id": "94ffa174",
   "metadata": {},
   "source": [
    "The recent success of machine learning algorithms is partly due to the huge amounts of data that we have available to train our algorithms on. However, when it comes to data, quantity is not the only thing that matters, the quality of your data is just as important."
   ]
  },
  {
   "cell_type": "markdown",
   "id": "477db2b1",
   "metadata": {},
   "source": [
    "More often than not, large datasets will often have missing values, outliers, incorrect values, etc… Having data with a lot of missing or bad values, for example, is not going to allow your machine learning algorithms to perform well."
   ]
  },
  {
   "cell_type": "markdown",
   "id": "b198e11c",
   "metadata": {},
   "source": [
    "his is where Pandas come in. Pandas Series and DataFrames are designed for fast data analysis and manipulation, as well as being flexible and easy to use. Below are just a few features that makes Pandas an excellent package for data analysis:"
   ]
  },
  {
   "cell_type": "markdown",
   "id": "f4317ea2",
   "metadata": {},
   "source": [
    "1) Allows the use of labels for rows and columns"
   ]
  },
  {
   "cell_type": "markdown",
   "id": "d0e42a32",
   "metadata": {},
   "source": [
    "2) Can calculate rolling statistics on time series data"
   ]
  },
  {
   "cell_type": "markdown",
   "id": "cdd7d0a8",
   "metadata": {},
   "source": [
    "3) Easy handling of NaN values."
   ]
  },
  {
   "cell_type": "markdown",
   "id": "5e09ee2d",
   "metadata": {},
   "source": [
    "4) Is able to load data of different formats into DataFrames"
   ]
  },
  {
   "cell_type": "markdown",
   "id": "e41e3584",
   "metadata": {},
   "source": [
    "5) Can join and merge different datasets together"
   ]
  },
  {
   "cell_type": "markdown",
   "id": "c170d47e",
   "metadata": {},
   "source": [
    "6) It integrates with Numpy and Matplotlib"
   ]
  },
  {
   "cell_type": "markdown",
   "id": "7f6d3e01",
   "metadata": {},
   "source": [
    "For these and other reasons, Pandas DataFrames have become one of the most commonly used Pandas object for data analysis in Python."
   ]
  },
  {
   "cell_type": "markdown",
   "id": "57dbc2b5",
   "metadata": {},
   "source": [
    "# PANDAS SERIES:"
   ]
  },
  {
   "cell_type": "markdown",
   "id": "7d5e71b6",
   "metadata": {},
   "source": [
    "A Pandas series is a one-dimensional array-like object that can hold many data types, such as numbers or strings. One of the main differences between Pandas Series and NumPy ndarrays is that you can assign an index label to each element in the Pandas Series. In other words, you can name the indices of your Pandas Series anything you want. Another big difference between Pandas Series and NumPy ndarrays is that Pandas Series can hold data of different data types."
   ]
  },
  {
   "cell_type": "code",
   "execution_count": 1,
   "id": "edeaaa50",
   "metadata": {},
   "outputs": [],
   "source": [
    "# We first have to import pandas using import statement in python\n",
    "\n",
    "import pandas as pd  "
   ]
  },
  {
   "cell_type": "markdown",
   "id": "3b39d35d",
   "metadata": {},
   "source": [
    "Let's create a pandas series. For that we just write pd.Series()"
   ]
  },
  {
   "cell_type": "markdown",
   "id": "5afc2646",
   "metadata": {},
   "source": [
    "So while creating series we can pass arguments for data and index"
   ]
  },
  {
   "cell_type": "code",
   "execution_count": 2,
   "id": "8d94c432",
   "metadata": {},
   "outputs": [
    {
     "data": {
      "text/plain": [
       "chocolates    15\n",
       "chips          5\n",
       "milk          No\n",
       "dtype: object"
      ]
     },
     "execution_count": 2,
     "metadata": {},
     "output_type": "execute_result"
    }
   ],
   "source": [
    "item = pd.Series(data=[15, 5, 'No'], index=['chocolates', 'chips', 'milk'])\n",
    "item"
   ]
  },
  {
   "cell_type": "markdown",
   "id": "1116c287",
   "metadata": {},
   "source": [
    "As we see the series is displayed as indicies in the first column ans data in the second column."
   ]
  },
  {
   "cell_type": "markdown",
   "id": "24d3459e",
   "metadata": {},
   "source": [
    "# Attributes of Panda Series:"
   ]
  },
  {
   "cell_type": "markdown",
   "id": "0e86dde2",
   "metadata": {},
   "source": [
    "Let's see some of the attributes of the pandas series that helps us to understand our series"
   ]
  },
  {
   "cell_type": "code",
   "execution_count": 3,
   "id": "79acee68",
   "metadata": {},
   "outputs": [
    {
     "data": {
      "text/plain": [
       "(3,)"
      ]
     },
     "execution_count": 3,
     "metadata": {},
     "output_type": "execute_result"
    }
   ],
   "source": [
    "item.shape   # gives us the  sizes of each dimension of the data"
   ]
  },
  {
   "cell_type": "code",
   "execution_count": 4,
   "id": "afd415d6",
   "metadata": {},
   "outputs": [
    {
     "data": {
      "text/plain": [
       "1"
      ]
     },
     "execution_count": 4,
     "metadata": {},
     "output_type": "execute_result"
    }
   ],
   "source": [
    "item.ndim   # gives us the number of dimensions of the data"
   ]
  },
  {
   "cell_type": "code",
   "execution_count": 5,
   "id": "a4e6f5c9",
   "metadata": {},
   "outputs": [
    {
     "data": {
      "text/plain": [
       "3"
      ]
     },
     "execution_count": 5,
     "metadata": {},
     "output_type": "execute_result"
    }
   ],
   "source": [
    "item.size   # gives us the total number of items in the arra"
   ]
  },
  {
   "cell_type": "code",
   "execution_count": 6,
   "id": "bfbdc3f5",
   "metadata": {},
   "outputs": [
    {
     "data": {
      "text/plain": [
       "Index(['chocolates', 'chips', 'milk'], dtype='object')"
      ]
     },
     "execution_count": 6,
     "metadata": {},
     "output_type": "execute_result"
    }
   ],
   "source": [
    "item.index   # gives us the list indeices of the series "
   ]
  },
  {
   "cell_type": "code",
   "execution_count": 7,
   "id": "9095715e",
   "metadata": {},
   "outputs": [
    {
     "data": {
      "text/plain": [
       "array([15, 5, 'No'], dtype=object)"
      ]
     },
     "execution_count": 7,
     "metadata": {},
     "output_type": "execute_result"
    }
   ],
   "source": [
    "item.values    #gives us the data of the series"
   ]
  },
  {
   "cell_type": "markdown",
   "id": "5a78f0d0",
   "metadata": {},
   "source": [
    "If you are dealing with a very large Pandas Series and if you are not sure whether an index label exists, you can check by using the in command"
   ]
  },
  {
   "cell_type": "code",
   "execution_count": 8,
   "id": "15ce2124",
   "metadata": {},
   "outputs": [
    {
     "name": "stdout",
     "output_type": "stream",
     "text": [
      "Is bananas an index label in item: False\n",
      "Is chips an index label in item: True\n"
     ]
    }
   ],
   "source": [
    "# We check whether bananas is a food item (an index) in Groceries\n",
    "x = 'bananas' in item\n",
    "\n",
    "# We check whether bread is a food item (an index) in Groceries\n",
    "y = 'chips' in item\n",
    "\n",
    "# We print the results\n",
    "print('Is bananas an index label in item:', x)\n",
    "print('Is chips an index label in item:', y)"
   ]
  },
  {
   "cell_type": "markdown",
   "id": "568139d2",
   "metadata": {},
   "source": [
    "# Accessing and Deleting Elements in Pandas Series:"
   ]
  },
  {
   "cell_type": "markdown",
   "id": "d3606834",
   "metadata": {},
   "source": [
    "Now let's look at how we can access or modify elements in a Pandas Series. One great advantage of Pandas Series is that it allows us to access data in many different ways. Elements can be accessed using index labels or numerical indices inside square brackets, [ ], similar to how we access elements in NumPy ndarrays. Since we can use numerical indices, we can use both positive and negative integers to access data from the beginning or from the end of the Series, respectively"
   ]
  },
  {
   "cell_type": "code",
   "execution_count": 9,
   "id": "1a1d2c90",
   "metadata": {},
   "outputs": [
    {
     "data": {
      "text/plain": [
       "15"
      ]
     },
     "execution_count": 9,
     "metadata": {},
     "output_type": "execute_result"
    }
   ],
   "source": [
    "# One by their index labels\n",
    "item['chocolates']"
   ]
  },
  {
   "cell_type": "code",
   "execution_count": 10,
   "id": "fc03693d",
   "metadata": {},
   "outputs": [
    {
     "data": {
      "text/plain": [
       "chocolates    15\n",
       "milk          No\n",
       "dtype: object"
      ]
     },
     "execution_count": 10,
     "metadata": {},
     "output_type": "execute_result"
    }
   ],
   "source": [
    "item[['chocolates', 'milk']]   #a list of indices is passed "
   ]
  },
  {
   "cell_type": "code",
   "execution_count": 11,
   "id": "4067c520",
   "metadata": {},
   "outputs": [
    {
     "data": {
      "text/plain": [
       "15"
      ]
     },
     "execution_count": 11,
     "metadata": {},
     "output_type": "execute_result"
    }
   ],
   "source": [
    "item[0]  #first element"
   ]
  },
  {
   "cell_type": "code",
   "execution_count": 12,
   "id": "b73a25e3",
   "metadata": {},
   "outputs": [
    {
     "data": {
      "text/plain": [
       "'No'"
      ]
     },
     "execution_count": 12,
     "metadata": {},
     "output_type": "execute_result"
    }
   ],
   "source": [
    "item[-1]  #last element"
   ]
  },
  {
   "cell_type": "code",
   "execution_count": 13,
   "id": "cc78761b",
   "metadata": {},
   "outputs": [
    {
     "data": {
      "text/plain": [
       "chocolates    15\n",
       "chips          5\n",
       "dtype: object"
      ]
     },
     "execution_count": 13,
     "metadata": {},
     "output_type": "execute_result"
    }
   ],
   "source": [
    "item[[0,1]]    # list of numerical indices"
   ]
  },
  {
   "cell_type": "markdown",
   "id": "04ac0458",
   "metadata": {},
   "source": [
    "In order to remove any ambiguity from whether we are reffering to the labeled index or the numerical index, panda series have two attributes loc and iloc."
   ]
  },
  {
   "cell_type": "markdown",
   "id": "78f5a4ad",
   "metadata": {},
   "source": [
    "The attribute loc stands for the location and is used to explicitly state that we are using our labeled index."
   ]
  },
  {
   "cell_type": "markdown",
   "id": "eda1143b",
   "metadata": {},
   "source": [
    "The attribute iloc stands for integer location and is used to explicitly state that we are using a numerical index"
   ]
  },
  {
   "cell_type": "code",
   "execution_count": 14,
   "id": "96844af0",
   "metadata": {},
   "outputs": [
    {
     "data": {
      "text/plain": [
       "milk     No\n",
       "chips     5\n",
       "dtype: object"
      ]
     },
     "execution_count": 14,
     "metadata": {},
     "output_type": "execute_result"
    }
   ],
   "source": [
    "item.loc[['milk', 'chips']]"
   ]
  },
  {
   "cell_type": "code",
   "execution_count": 15,
   "id": "041d4318",
   "metadata": {},
   "outputs": [
    {
     "data": {
      "text/plain": [
       "chips     5\n",
       "milk     No\n",
       "dtype: object"
      ]
     },
     "execution_count": 15,
     "metadata": {},
     "output_type": "execute_result"
    }
   ],
   "source": [
    "item.iloc[[1,2]]"
   ]
  },
  {
   "cell_type": "code",
   "execution_count": 16,
   "id": "90957fb8",
   "metadata": {},
   "outputs": [
    {
     "data": {
      "text/plain": [
       "chocolates    15\n",
       "chips          5\n",
       "milk          No\n",
       "dtype: object"
      ]
     },
     "execution_count": 16,
     "metadata": {},
     "output_type": "execute_result"
    }
   ],
   "source": [
    "item #let's see the series again"
   ]
  },
  {
   "cell_type": "markdown",
   "id": "1ef417e5",
   "metadata": {},
   "source": [
    "Pandas Series are also mutable like NumPy ndarrays, which means we can change the elements of a Pandas Series after it has been created."
   ]
  },
  {
   "cell_type": "code",
   "execution_count": 17,
   "id": "12d49ec5",
   "metadata": {},
   "outputs": [
    {
     "data": {
      "text/plain": [
       "chocolates     15\n",
       "chips           5\n",
       "milk          Yes\n",
       "dtype: object"
      ]
     },
     "execution_count": 17,
     "metadata": {},
     "output_type": "execute_result"
    }
   ],
   "source": [
    "# we can change the data by reassigning the value\n",
    "item['milk'] = 'Yes'\n",
    "item"
   ]
  },
  {
   "cell_type": "markdown",
   "id": "f1e7e433",
   "metadata": {},
   "source": [
    "We can see that our series is now modified"
   ]
  },
  {
   "cell_type": "markdown",
   "id": "e0e5aac0",
   "metadata": {},
   "source": [
    "# Deleting values from Pandas Series:"
   ]
  },
  {
   "cell_type": "markdown",
   "id": "28a3a609",
   "metadata": {},
   "source": [
    "We can also delete items from a Pandas Series by using the .drop() method. The Series.drop(label) method removes the given label from the given Series."
   ]
  },
  {
   "cell_type": "code",
   "execution_count": 18,
   "id": "7fc0d7e5",
   "metadata": {},
   "outputs": [
    {
     "data": {
      "text/plain": [
       "chips      5\n",
       "milk     Yes\n",
       "dtype: object"
      ]
     },
     "execution_count": 18,
     "metadata": {},
     "output_type": "execute_result"
    }
   ],
   "source": [
    "# Also we can delete items from the pandas series using drop method\n",
    "item.drop('chocolates')"
   ]
  },
  {
   "cell_type": "markdown",
   "id": "d3624bba",
   "metadata": {},
   "source": [
    "As we see the chocolate item is no longer is present in the series returned by the method."
   ]
  },
  {
   "cell_type": "markdown",
   "id": "0606de2b",
   "metadata": {},
   "source": [
    "Note: However, this drops elements from the series out of place meaning the code above just returned the modified series and actually didn't change the actual series"
   ]
  },
  {
   "cell_type": "code",
   "execution_count": 19,
   "id": "47483a61",
   "metadata": {},
   "outputs": [
    {
     "data": {
      "text/plain": [
       "chocolates     15\n",
       "chips           5\n",
       "milk          Yes\n",
       "dtype: object"
      ]
     },
     "execution_count": 19,
     "metadata": {},
     "output_type": "execute_result"
    }
   ],
   "source": [
    "item   # THE CHOCOLATES ITEM MUST BE PRESENT HERE"
   ]
  },
  {
   "cell_type": "markdown",
   "id": "afef6651",
   "metadata": {},
   "source": [
    "If you want to modify the actual series, we can use either of the two methods"
   ]
  },
  {
   "cell_type": "markdown",
   "id": "d7852718",
   "metadata": {},
   "source": [
    "overwrite the returned series on the original one"
   ]
  },
  {
   "cell_type": "markdown",
   "id": "8e292928",
   "metadata": {},
   "source": [
    "use inplace agrgument and set it to True"
   ]
  },
  {
   "cell_type": "code",
   "execution_count": null,
   "id": "493f7bfa",
   "metadata": {},
   "outputs": [],
   "source": [
    "item.drop('chocolates', inplace= True)\n",
    "item"
   ]
  },
  {
   "cell_type": "code",
   "execution_count": null,
   "id": "d0a60687",
   "metadata": {},
   "outputs": [],
   "source": [
    "item"
   ]
  },
  {
   "cell_type": "markdown",
   "id": "fc38d56b",
   "metadata": {},
   "source": [
    "As you see the item is dropped from the original series."
   ]
  },
  {
   "cell_type": "markdown",
   "id": "670af2ba",
   "metadata": {},
   "source": [
    "# Arithmatic operations on Pandas Series:"
   ]
  },
  {
   "cell_type": "markdown",
   "id": "9b7535bc",
   "metadata": {},
   "source": [
    "Just like with NumPy ndarrays, we can perform element-wise arithmetic operations on Pandas Series. We will look at the arithematic operations between pandas series and single numbers.\n",
    "Let's first make a new series"
   ]
  },
  {
   "cell_type": "code",
   "execution_count": null,
   "id": "a6c4887d",
   "metadata": {},
   "outputs": [],
   "source": [
    "sweets = pd.Series(data=[10, 5, 7], index=['candies', 'donuts', 'ladoos'])\n",
    "sweets"
   ]
  },
  {
   "cell_type": "markdown",
   "id": "7241864c",
   "metadata": {},
   "source": [
    "We can now modify the data in sweets by performing basic arithmetic operations. Let's see some examples"
   ]
  },
  {
   "cell_type": "code",
   "execution_count": null,
   "id": "222a7b0a",
   "metadata": {},
   "outputs": [],
   "source": [
    "sweets+2"
   ]
  },
  {
   "cell_type": "code",
   "execution_count": null,
   "id": "f89cbba2",
   "metadata": {},
   "outputs": [],
   "source": [
    "sweets-2"
   ]
  },
  {
   "cell_type": "code",
   "execution_count": null,
   "id": "79e3b791",
   "metadata": {},
   "outputs": [],
   "source": [
    "sweets*2"
   ]
  },
  {
   "cell_type": "code",
   "execution_count": null,
   "id": "b44c45d2",
   "metadata": {},
   "outputs": [],
   "source": [
    "sweets/2"
   ]
  },
  {
   "cell_type": "code",
   "execution_count": null,
   "id": "82918703",
   "metadata": {},
   "outputs": [],
   "source": [
    "# WE CAN ALSO APPLY MATHEMATICAL FUNCTIONS FROM NUMPY SUCH AS SQAURE ROOT\n",
    "import numpy as np\n",
    "\n",
    "np.sqrt(sweets)"
   ]
  },
  {
   "cell_type": "markdown",
   "id": "47fef17a",
   "metadata": {},
   "source": [
    "# 2. PANDAS DATAFRAME"
   ]
  },
  {
   "cell_type": "markdown",
   "id": "dcedae75",
   "metadata": {},
   "source": [
    "Dataframe is a two dimensional object which holds rows and columns and can hold values of different data types."
   ]
  },
  {
   "cell_type": "markdown",
   "id": "4c585097",
   "metadata": {},
   "source": [
    "We can create a dataframe manually or by loading data from a file"
   ]
  },
  {
   "cell_type": "markdown",
   "id": "33c2a52b",
   "metadata": {},
   "source": [
    "First let's create a dictionary of pandas series and pass it into pandas dataframe"
   ]
  },
  {
   "cell_type": "code",
   "execution_count": 20,
   "id": "7b95ff6d",
   "metadata": {},
   "outputs": [],
   "source": [
    "items = {'sai': pd.Series([250, 15, 70, 100], index=['watch', 'toys', 'glasses', 'shirt']),\n",
    "        'prakash': pd.Series([120, 50, 90], index=['pants', 'books', 'toys' ])}\n",
    "\n",
    "# item is a dictionary for two people containing some items and the cost of the item "
   ]
  },
  {
   "cell_type": "code",
   "execution_count": 21,
   "id": "15ffd417",
   "metadata": {},
   "outputs": [
    {
     "data": {
      "text/html": [
       "<div>\n",
       "<style scoped>\n",
       "    .dataframe tbody tr th:only-of-type {\n",
       "        vertical-align: middle;\n",
       "    }\n",
       "\n",
       "    .dataframe tbody tr th {\n",
       "        vertical-align: top;\n",
       "    }\n",
       "\n",
       "    .dataframe thead th {\n",
       "        text-align: right;\n",
       "    }\n",
       "</style>\n",
       "<table border=\"1\" class=\"dataframe\">\n",
       "  <thead>\n",
       "    <tr style=\"text-align: right;\">\n",
       "      <th></th>\n",
       "      <th>0</th>\n",
       "    </tr>\n",
       "  </thead>\n",
       "  <tbody>\n",
       "    <tr>\n",
       "      <th>chocolates</th>\n",
       "      <td>15</td>\n",
       "    </tr>\n",
       "    <tr>\n",
       "      <th>chips</th>\n",
       "      <td>5</td>\n",
       "    </tr>\n",
       "    <tr>\n",
       "      <th>milk</th>\n",
       "      <td>Yes</td>\n",
       "    </tr>\n",
       "  </tbody>\n",
       "</table>\n",
       "</div>"
      ],
      "text/plain": [
       "              0\n",
       "chocolates   15\n",
       "chips         5\n",
       "milk        Yes"
      ]
     },
     "execution_count": 21,
     "metadata": {},
     "output_type": "execute_result"
    }
   ],
   "source": [
    "# WE CAN CREATE A DATA FRAME BY PASSINF THE DICTIONARY TO THE DataFrame FUNCTION\n",
    "\n",
    "cart = pd.DataFrame(item)\n",
    "cart"
   ]
  },
  {
   "cell_type": "markdown",
   "id": "a0be87eb",
   "metadata": {},
   "source": [
    "1) Make sure to capitalize the D and F while calling the dataframe function."
   ]
  },
  {
   "cell_type": "markdown",
   "id": "ab4c0f53",
   "metadata": {},
   "source": [
    "2) The dataframe is displayed in the tabular form"
   ]
  },
  {
   "cell_type": "markdown",
   "id": "0f77a4cd",
   "metadata": {},
   "source": [
    "3) The row labels for the dataframe are built from the union of the index labels we provided in the series and the column labels for the dataframe is taken from the keys of the dictionaries."
   ]
  },
  {
   "cell_type": "markdown",
   "id": "99b3540d",
   "metadata": {},
   "source": [
    "4) The dataframe has NaN values because for Sai we have no item like books and pants in the dicrionary we provided and similarly we have NaN values for column prakash."
   ]
  },
  {
   "cell_type": "code",
   "execution_count": 22,
   "id": "07ef6fe9",
   "metadata": {},
   "outputs": [
    {
     "data": {
      "text/html": [
       "<div>\n",
       "<style scoped>\n",
       "    .dataframe tbody tr th:only-of-type {\n",
       "        vertical-align: middle;\n",
       "    }\n",
       "\n",
       "    .dataframe tbody tr th {\n",
       "        vertical-align: top;\n",
       "    }\n",
       "\n",
       "    .dataframe thead th {\n",
       "        text-align: right;\n",
       "    }\n",
       "</style>\n",
       "<table border=\"1\" class=\"dataframe\">\n",
       "  <thead>\n",
       "    <tr style=\"text-align: right;\">\n",
       "      <th></th>\n",
       "      <th>Sai</th>\n",
       "      <th>prakash</th>\n",
       "    </tr>\n",
       "  </thead>\n",
       "  <tbody>\n",
       "    <tr>\n",
       "      <th>0</th>\n",
       "      <td>250</td>\n",
       "      <td>120.0</td>\n",
       "    </tr>\n",
       "    <tr>\n",
       "      <th>1</th>\n",
       "      <td>15</td>\n",
       "      <td>50.0</td>\n",
       "    </tr>\n",
       "    <tr>\n",
       "      <th>2</th>\n",
       "      <td>70</td>\n",
       "      <td>90.0</td>\n",
       "    </tr>\n",
       "    <tr>\n",
       "      <th>3</th>\n",
       "      <td>100</td>\n",
       "      <td>NaN</td>\n",
       "    </tr>\n",
       "  </tbody>\n",
       "</table>\n",
       "</div>"
      ],
      "text/plain": [
       "   Sai  prakash\n",
       "0  250    120.0\n",
       "1   15     50.0\n",
       "2   70     90.0\n",
       "3  100      NaN"
      ]
     },
     "execution_count": 22,
     "metadata": {},
     "output_type": "execute_result"
    }
   ],
   "source": [
    "# IN ABOVE EXAMPLE WE PROVIDED THE DICTIONARIES THAT CLEARLY DEFINED THE INDEX LABLES, HOWEVER IF WE DON'T PROVIDE THE INDEX LABELS, \n",
    "# THEN THE DATAFRAME WOULD USE THE NUMERICAL INDEX VALUES\n",
    "# LET'S CREATE THE SAME DICIONARY WITHOUT THE INDEXED LABELS\n",
    "new_item = {'Sai': pd.Series([250, 15, 70, 100]),\n",
    "        'prakash': pd.Series([120, 50, 90])}\n",
    "\n",
    "\n",
    "# NOW MAKE THE DATAFRAME USING THE NEW DICTIONARIES \n",
    "df = pd.DataFrame(new_item)\n",
    "df"
   ]
  },
  {
   "cell_type": "markdown",
   "id": "83468713",
   "metadata": {},
   "source": [
    "The dataframe uses the numerical indices."
   ]
  },
  {
   "cell_type": "markdown",
   "id": "b1e03e19",
   "metadata": {},
   "source": [
    "# Attributes"
   ]
  },
  {
   "cell_type": "markdown",
   "id": "06c9e2b5",
   "metadata": {},
   "source": [
    "Like we did in pandas series, we can also extract information from pandas dataframe using some attributes."
   ]
  },
  {
   "cell_type": "code",
   "execution_count": 23,
   "id": "afdcb7ee",
   "metadata": {},
   "outputs": [
    {
     "data": {
      "text/plain": [
       "Index(['chocolates', 'chips', 'milk'], dtype='object')"
      ]
     },
     "execution_count": 23,
     "metadata": {},
     "output_type": "execute_result"
    }
   ],
   "source": [
    "cart.index"
   ]
  },
  {
   "cell_type": "code",
   "execution_count": 24,
   "id": "3cbf8fed",
   "metadata": {},
   "outputs": [
    {
     "data": {
      "text/plain": [
       "RangeIndex(start=0, stop=1, step=1)"
      ]
     },
     "execution_count": 24,
     "metadata": {},
     "output_type": "execute_result"
    }
   ],
   "source": [
    "cart.columns"
   ]
  },
  {
   "cell_type": "code",
   "execution_count": 25,
   "id": "5ad8ee5a",
   "metadata": {},
   "outputs": [
    {
     "data": {
      "text/plain": [
       "array([[15],\n",
       "       [5],\n",
       "       ['Yes']], dtype=object)"
      ]
     },
     "execution_count": 25,
     "metadata": {},
     "output_type": "execute_result"
    }
   ],
   "source": [
    "cart.values"
   ]
  },
  {
   "cell_type": "code",
   "execution_count": 26,
   "id": "94673e2d",
   "metadata": {},
   "outputs": [
    {
     "data": {
      "text/plain": [
       "(3, 1)"
      ]
     },
     "execution_count": 26,
     "metadata": {},
     "output_type": "execute_result"
    }
   ],
   "source": [
    "cart.shape"
   ]
  },
  {
   "cell_type": "code",
   "execution_count": 27,
   "id": "0bf4d30f",
   "metadata": {},
   "outputs": [
    {
     "data": {
      "text/plain": [
       "2"
      ]
     },
     "execution_count": 27,
     "metadata": {},
     "output_type": "execute_result"
    }
   ],
   "source": [
    "cart.ndim"
   ]
  },
  {
   "cell_type": "code",
   "execution_count": 28,
   "id": "59dd03e5",
   "metadata": {},
   "outputs": [
    {
     "data": {
      "text/plain": [
       "3"
      ]
     },
     "execution_count": 28,
     "metadata": {},
     "output_type": "execute_result"
    }
   ],
   "source": [
    "cart.size"
   ]
  },
  {
   "cell_type": "markdown",
   "id": "47690f46",
   "metadata": {},
   "source": [
    "NOTE: While creating the cart dataframe, we passed the whole dictionary to the dataframe function. However, there might be cases when we are only interested in some specific subset of the whole data. Pandas let's us select which data we want to put into the DataFrame, with the keywords columns and index."
   ]
  },
  {
   "cell_type": "code",
   "execution_count": 29,
   "id": "247db8ae",
   "metadata": {},
   "outputs": [
    {
     "data": {
      "text/html": [
       "<div>\n",
       "<style scoped>\n",
       "    .dataframe tbody tr th:only-of-type {\n",
       "        vertical-align: middle;\n",
       "    }\n",
       "\n",
       "    .dataframe tbody tr th {\n",
       "        vertical-align: top;\n",
       "    }\n",
       "\n",
       "    .dataframe thead th {\n",
       "        text-align: right;\n",
       "    }\n",
       "</style>\n",
       "<table border=\"1\" class=\"dataframe\">\n",
       "  <thead>\n",
       "    <tr style=\"text-align: right;\">\n",
       "      <th></th>\n",
       "      <th>sai</th>\n",
       "    </tr>\n",
       "  </thead>\n",
       "  <tbody>\n",
       "    <tr>\n",
       "      <th>chocolates</th>\n",
       "      <td>15</td>\n",
       "    </tr>\n",
       "    <tr>\n",
       "      <th>chips</th>\n",
       "      <td>5</td>\n",
       "    </tr>\n",
       "    <tr>\n",
       "      <th>milk</th>\n",
       "      <td>Yes</td>\n",
       "    </tr>\n",
       "  </tbody>\n",
       "</table>\n",
       "</div>"
      ],
      "text/plain": [
       "            sai\n",
       "chocolates   15\n",
       "chips         5\n",
       "milk        Yes"
      ]
     },
     "execution_count": 29,
     "metadata": {},
     "output_type": "execute_result"
    }
   ],
   "source": [
    "sai_cart = pd.DataFrame(item, columns=['sai'])\n",
    "sai_cart"
   ]
  },
  {
   "cell_type": "code",
   "execution_count": 30,
   "id": "f8a35641",
   "metadata": {},
   "outputs": [
    {
     "data": {
      "text/html": [
       "<div>\n",
       "<style scoped>\n",
       "    .dataframe tbody tr th:only-of-type {\n",
       "        vertical-align: middle;\n",
       "    }\n",
       "\n",
       "    .dataframe tbody tr th {\n",
       "        vertical-align: top;\n",
       "    }\n",
       "\n",
       "    .dataframe thead th {\n",
       "        text-align: right;\n",
       "    }\n",
       "</style>\n",
       "<table border=\"1\" class=\"dataframe\">\n",
       "  <thead>\n",
       "    <tr style=\"text-align: right;\">\n",
       "      <th></th>\n",
       "      <th>0</th>\n",
       "    </tr>\n",
       "  </thead>\n",
       "  <tbody>\n",
       "    <tr>\n",
       "      <th>pants</th>\n",
       "      <td>NaN</td>\n",
       "    </tr>\n",
       "    <tr>\n",
       "      <th>toys</th>\n",
       "      <td>NaN</td>\n",
       "    </tr>\n",
       "  </tbody>\n",
       "</table>\n",
       "</div>"
      ],
      "text/plain": [
       "         0\n",
       "pants  NaN\n",
       "toys   NaN"
      ]
     },
     "execution_count": 30,
     "metadata": {},
     "output_type": "execute_result"
    }
   ],
   "source": [
    "selected_item = pd.DataFrame(item, index=['pants', 'toys'])\n",
    "selected_item"
   ]
  },
  {
   "cell_type": "code",
   "execution_count": 31,
   "id": "4c0099a7",
   "metadata": {},
   "outputs": [
    {
     "data": {
      "text/html": [
       "<div>\n",
       "<style scoped>\n",
       "    .dataframe tbody tr th:only-of-type {\n",
       "        vertical-align: middle;\n",
       "    }\n",
       "\n",
       "    .dataframe tbody tr th {\n",
       "        vertical-align: top;\n",
       "    }\n",
       "\n",
       "    .dataframe thead th {\n",
       "        text-align: right;\n",
       "    }\n",
       "</style>\n",
       "<table border=\"1\" class=\"dataframe\">\n",
       "  <thead>\n",
       "    <tr style=\"text-align: right;\">\n",
       "      <th></th>\n",
       "      <th>sai</th>\n",
       "    </tr>\n",
       "  </thead>\n",
       "  <tbody>\n",
       "    <tr>\n",
       "      <th>pants</th>\n",
       "      <td>NaN</td>\n",
       "    </tr>\n",
       "    <tr>\n",
       "      <th>toys</th>\n",
       "      <td>NaN</td>\n",
       "    </tr>\n",
       "  </tbody>\n",
       "</table>\n",
       "</div>"
      ],
      "text/plain": [
       "       sai\n",
       "pants  NaN\n",
       "toys   NaN"
      ]
     },
     "execution_count": 31,
     "metadata": {},
     "output_type": "execute_result"
    }
   ],
   "source": [
    "sai_selected_item = pd.DataFrame(item, columns=['sai'], index=['pants', 'toys'])\n",
    "sai_selected_item"
   ]
  },
  {
   "cell_type": "markdown",
   "id": "5672dbc4",
   "metadata": {},
   "source": [
    "We can also create a dataframe from a dictionary of lists or arrays. The procedure is same as before, we start by creating the dictionary and then pass it into the dataframe function. In this case however all the list or arrays in the dictionary must be of the same length."
   ]
  },
  {
   "cell_type": "code",
   "execution_count": 32,
   "id": "2f5448e2",
   "metadata": {},
   "outputs": [
    {
     "data": {
      "text/html": [
       "<div>\n",
       "<style scoped>\n",
       "    .dataframe tbody tr th:only-of-type {\n",
       "        vertical-align: middle;\n",
       "    }\n",
       "\n",
       "    .dataframe tbody tr th {\n",
       "        vertical-align: top;\n",
       "    }\n",
       "\n",
       "    .dataframe thead th {\n",
       "        text-align: right;\n",
       "    }\n",
       "</style>\n",
       "<table border=\"1\" class=\"dataframe\">\n",
       "  <thead>\n",
       "    <tr style=\"text-align: right;\">\n",
       "      <th></th>\n",
       "      <th>Integers</th>\n",
       "      <th>Floats</th>\n",
       "    </tr>\n",
       "  </thead>\n",
       "  <tbody>\n",
       "    <tr>\n",
       "      <th>label1</th>\n",
       "      <td>1</td>\n",
       "      <td>1.1</td>\n",
       "    </tr>\n",
       "    <tr>\n",
       "      <th>label2</th>\n",
       "      <td>2</td>\n",
       "      <td>2.2</td>\n",
       "    </tr>\n",
       "    <tr>\n",
       "      <th>label3</th>\n",
       "      <td>3</td>\n",
       "      <td>3.3</td>\n",
       "    </tr>\n",
       "  </tbody>\n",
       "</table>\n",
       "</div>"
      ],
      "text/plain": [
       "        Integers  Floats\n",
       "label1         1     1.1\n",
       "label2         2     2.2\n",
       "label3         3     3.3"
      ]
     },
     "execution_count": 32,
     "metadata": {},
     "output_type": "execute_result"
    }
   ],
   "source": [
    "# Here's the dictionary of the integers and the floats.\n",
    "data = {'Integers':[1,2,3],\n",
    "         'Floats':[1.1, 2.2, 3.3]}\n",
    "\n",
    "df = pd.DataFrame(data, index=['label1', 'label2', 'label3'])    ## IF WE DON'T PASS THE INDICES, DATAFRAME WILL AUTOMATICALLY USE NUMERICAL INDICES\n",
    "df"
   ]
  },
  {
   "cell_type": "code",
   "execution_count": 33,
   "id": "e5db9a9c",
   "metadata": {},
   "outputs": [
    {
     "data": {
      "text/html": [
       "<div>\n",
       "<style scoped>\n",
       "    .dataframe tbody tr th:only-of-type {\n",
       "        vertical-align: middle;\n",
       "    }\n",
       "\n",
       "    .dataframe tbody tr th {\n",
       "        vertical-align: top;\n",
       "    }\n",
       "\n",
       "    .dataframe thead th {\n",
       "        text-align: right;\n",
       "    }\n",
       "</style>\n",
       "<table border=\"1\" class=\"dataframe\">\n",
       "  <thead>\n",
       "    <tr style=\"text-align: right;\">\n",
       "      <th></th>\n",
       "      <th>apple</th>\n",
       "      <th>banana</th>\n",
       "      <th>orange</th>\n",
       "      <th>tomato</th>\n",
       "      <th>grapes</th>\n",
       "    </tr>\n",
       "  </thead>\n",
       "  <tbody>\n",
       "    <tr>\n",
       "      <th>0</th>\n",
       "      <td>20</td>\n",
       "      <td>15.0</td>\n",
       "      <td>30.0</td>\n",
       "      <td>NaN</td>\n",
       "      <td>NaN</td>\n",
       "    </tr>\n",
       "    <tr>\n",
       "      <th>1</th>\n",
       "      <td>10</td>\n",
       "      <td>NaN</td>\n",
       "      <td>NaN</td>\n",
       "      <td>17.0</td>\n",
       "      <td>35.0</td>\n",
       "    </tr>\n",
       "  </tbody>\n",
       "</table>\n",
       "</div>"
      ],
      "text/plain": [
       "   apple  banana  orange  tomato  grapes\n",
       "0     20    15.0    30.0     NaN     NaN\n",
       "1     10     NaN     NaN    17.0    35.0"
      ]
     },
     "execution_count": 33,
     "metadata": {},
     "output_type": "execute_result"
    }
   ],
   "source": [
    "# Creating DataFrame using a list of python dictionaries \n",
    "ListOfDict = [{'apple':20, 'banana':15, 'orange':30},{'apple':10, 'tomato':17, 'grapes': 35}]\n",
    "\n",
    "df = pd.DataFrame(ListOfDict)\n",
    "df"
   ]
  },
  {
   "cell_type": "markdown",
   "id": "7b987ffd",
   "metadata": {},
   "source": [
    "DataFrame used the numerical row indices. If we want to assign the row indices some values, we can use:"
   ]
  },
  {
   "cell_type": "code",
   "execution_count": 34,
   "id": "bf48dff1",
   "metadata": {},
   "outputs": [
    {
     "data": {
      "text/html": [
       "<div>\n",
       "<style scoped>\n",
       "    .dataframe tbody tr th:only-of-type {\n",
       "        vertical-align: middle;\n",
       "    }\n",
       "\n",
       "    .dataframe tbody tr th {\n",
       "        vertical-align: top;\n",
       "    }\n",
       "\n",
       "    .dataframe thead th {\n",
       "        text-align: right;\n",
       "    }\n",
       "</style>\n",
       "<table border=\"1\" class=\"dataframe\">\n",
       "  <thead>\n",
       "    <tr style=\"text-align: right;\">\n",
       "      <th></th>\n",
       "      <th>apple</th>\n",
       "      <th>banana</th>\n",
       "      <th>orange</th>\n",
       "      <th>tomato</th>\n",
       "      <th>grapes</th>\n",
       "    </tr>\n",
       "  </thead>\n",
       "  <tbody>\n",
       "    <tr>\n",
       "      <th>personA</th>\n",
       "      <td>20</td>\n",
       "      <td>15.0</td>\n",
       "      <td>30.0</td>\n",
       "      <td>NaN</td>\n",
       "      <td>NaN</td>\n",
       "    </tr>\n",
       "    <tr>\n",
       "      <th>personB</th>\n",
       "      <td>10</td>\n",
       "      <td>NaN</td>\n",
       "      <td>NaN</td>\n",
       "      <td>17.0</td>\n",
       "      <td>35.0</td>\n",
       "    </tr>\n",
       "  </tbody>\n",
       "</table>\n",
       "</div>"
      ],
      "text/plain": [
       "         apple  banana  orange  tomato  grapes\n",
       "personA     20    15.0    30.0     NaN     NaN\n",
       "personB     10     NaN     NaN    17.0    35.0"
      ]
     },
     "execution_count": 34,
     "metadata": {},
     "output_type": "execute_result"
    }
   ],
   "source": [
    "df.index = ['personA', 'personB']\n",
    "df "
   ]
  },
  {
   "cell_type": "markdown",
   "id": "ff9572d7",
   "metadata": {},
   "source": [
    "Accessing the values in a DataFrame"
   ]
  },
  {
   "cell_type": "code",
   "execution_count": 35,
   "id": "8e487835",
   "metadata": {},
   "outputs": [
    {
     "data": {
      "text/html": [
       "<div>\n",
       "<style scoped>\n",
       "    .dataframe tbody tr th:only-of-type {\n",
       "        vertical-align: middle;\n",
       "    }\n",
       "\n",
       "    .dataframe tbody tr th {\n",
       "        vertical-align: top;\n",
       "    }\n",
       "\n",
       "    .dataframe thead th {\n",
       "        text-align: right;\n",
       "    }\n",
       "</style>\n",
       "<table border=\"1\" class=\"dataframe\">\n",
       "  <thead>\n",
       "    <tr style=\"text-align: right;\">\n",
       "      <th></th>\n",
       "      <th>apple</th>\n",
       "    </tr>\n",
       "  </thead>\n",
       "  <tbody>\n",
       "    <tr>\n",
       "      <th>personA</th>\n",
       "      <td>20</td>\n",
       "    </tr>\n",
       "    <tr>\n",
       "      <th>personB</th>\n",
       "      <td>10</td>\n",
       "    </tr>\n",
       "  </tbody>\n",
       "</table>\n",
       "</div>"
      ],
      "text/plain": [
       "         apple\n",
       "personA     20\n",
       "personB     10"
      ]
     },
     "execution_count": 35,
     "metadata": {},
     "output_type": "execute_result"
    }
   ],
   "source": [
    "df[['apple']]     ##accessing a column"
   ]
  },
  {
   "cell_type": "code",
   "execution_count": 36,
   "id": "210075fa",
   "metadata": {},
   "outputs": [
    {
     "data": {
      "text/html": [
       "<div>\n",
       "<style scoped>\n",
       "    .dataframe tbody tr th:only-of-type {\n",
       "        vertical-align: middle;\n",
       "    }\n",
       "\n",
       "    .dataframe tbody tr th {\n",
       "        vertical-align: top;\n",
       "    }\n",
       "\n",
       "    .dataframe thead th {\n",
       "        text-align: right;\n",
       "    }\n",
       "</style>\n",
       "<table border=\"1\" class=\"dataframe\">\n",
       "  <thead>\n",
       "    <tr style=\"text-align: right;\">\n",
       "      <th></th>\n",
       "      <th>banana</th>\n",
       "      <th>tomato</th>\n",
       "    </tr>\n",
       "  </thead>\n",
       "  <tbody>\n",
       "    <tr>\n",
       "      <th>personA</th>\n",
       "      <td>15.0</td>\n",
       "      <td>NaN</td>\n",
       "    </tr>\n",
       "    <tr>\n",
       "      <th>personB</th>\n",
       "      <td>NaN</td>\n",
       "      <td>17.0</td>\n",
       "    </tr>\n",
       "  </tbody>\n",
       "</table>\n",
       "</div>"
      ],
      "text/plain": [
       "         banana  tomato\n",
       "personA    15.0     NaN\n",
       "personB     NaN    17.0"
      ]
     },
     "execution_count": 36,
     "metadata": {},
     "output_type": "execute_result"
    }
   ],
   "source": [
    "df[['banana','tomato']]     ##accessing by passing a list of columns"
   ]
  },
  {
   "cell_type": "code",
   "execution_count": 37,
   "id": "2583bdc8",
   "metadata": {},
   "outputs": [
    {
     "data": {
      "text/html": [
       "<div>\n",
       "<style scoped>\n",
       "    .dataframe tbody tr th:only-of-type {\n",
       "        vertical-align: middle;\n",
       "    }\n",
       "\n",
       "    .dataframe tbody tr th {\n",
       "        vertical-align: top;\n",
       "    }\n",
       "\n",
       "    .dataframe thead th {\n",
       "        text-align: right;\n",
       "    }\n",
       "</style>\n",
       "<table border=\"1\" class=\"dataframe\">\n",
       "  <thead>\n",
       "    <tr style=\"text-align: right;\">\n",
       "      <th></th>\n",
       "      <th>apple</th>\n",
       "      <th>banana</th>\n",
       "      <th>orange</th>\n",
       "      <th>tomato</th>\n",
       "      <th>grapes</th>\n",
       "    </tr>\n",
       "  </thead>\n",
       "  <tbody>\n",
       "    <tr>\n",
       "      <th>personA</th>\n",
       "      <td>20</td>\n",
       "      <td>15.0</td>\n",
       "      <td>30.0</td>\n",
       "      <td>NaN</td>\n",
       "      <td>NaN</td>\n",
       "    </tr>\n",
       "  </tbody>\n",
       "</table>\n",
       "</div>"
      ],
      "text/plain": [
       "         apple  banana  orange  tomato  grapes\n",
       "personA     20    15.0    30.0     NaN     NaN"
      ]
     },
     "execution_count": 37,
     "metadata": {},
     "output_type": "execute_result"
    }
   ],
   "source": [
    "df.loc[['personA']]    ##accessing a row"
   ]
  },
  {
   "cell_type": "code",
   "execution_count": 38,
   "id": "813f3ea7",
   "metadata": {},
   "outputs": [
    {
     "data": {
      "text/plain": [
       "35.0"
      ]
     },
     "execution_count": 38,
     "metadata": {},
     "output_type": "execute_result"
    }
   ],
   "source": [
    "df['grapes']['personB']    ##accessing a specific value"
   ]
  },
  {
   "cell_type": "markdown",
   "id": "a7777bcb",
   "metadata": {},
   "source": [
    "NOTE: While accessing the specific element, the column label always comes the first then the row label."
   ]
  },
  {
   "cell_type": "code",
   "execution_count": 39,
   "id": "4d71a051",
   "metadata": {},
   "outputs": [
    {
     "data": {
      "text/html": [
       "<div>\n",
       "<style scoped>\n",
       "    .dataframe tbody tr th:only-of-type {\n",
       "        vertical-align: middle;\n",
       "    }\n",
       "\n",
       "    .dataframe tbody tr th {\n",
       "        vertical-align: top;\n",
       "    }\n",
       "\n",
       "    .dataframe thead th {\n",
       "        text-align: right;\n",
       "    }\n",
       "</style>\n",
       "<table border=\"1\" class=\"dataframe\">\n",
       "  <thead>\n",
       "    <tr style=\"text-align: right;\">\n",
       "      <th></th>\n",
       "      <th>apple</th>\n",
       "      <th>banana</th>\n",
       "      <th>orange</th>\n",
       "      <th>tomato</th>\n",
       "      <th>grapes</th>\n",
       "      <th>corn</th>\n",
       "    </tr>\n",
       "  </thead>\n",
       "  <tbody>\n",
       "    <tr>\n",
       "      <th>personA</th>\n",
       "      <td>20</td>\n",
       "      <td>15.0</td>\n",
       "      <td>30.0</td>\n",
       "      <td>NaN</td>\n",
       "      <td>NaN</td>\n",
       "      <td>5</td>\n",
       "    </tr>\n",
       "    <tr>\n",
       "      <th>personB</th>\n",
       "      <td>10</td>\n",
       "      <td>NaN</td>\n",
       "      <td>NaN</td>\n",
       "      <td>17.0</td>\n",
       "      <td>35.0</td>\n",
       "      <td>7</td>\n",
       "    </tr>\n",
       "  </tbody>\n",
       "</table>\n",
       "</div>"
      ],
      "text/plain": [
       "         apple  banana  orange  tomato  grapes  corn\n",
       "personA     20    15.0    30.0     NaN     NaN     5\n",
       "personB     10     NaN     NaN    17.0    35.0     7"
      ]
     },
     "execution_count": 39,
     "metadata": {},
     "output_type": "execute_result"
    }
   ],
   "source": [
    "## IF WE WANT TO ADD A NEW COLUMN TO OUR DATAFRAME,  WE CAN ADD LIKE THIS:\n",
    "\n",
    "df['corn'] = [5, 7]\n",
    "df"
   ]
  },
  {
   "cell_type": "markdown",
   "id": "16a458eb",
   "metadata": {},
   "source": [
    "We can also add new columns using the arithematic operations on the other columns of our DataFrame.\n",
    "For eg: we can add a new column vegies by adding the values for corn and tomato"
   ]
  },
  {
   "cell_type": "code",
   "execution_count": 40,
   "id": "1f4f87cc",
   "metadata": {},
   "outputs": [
    {
     "data": {
      "text/html": [
       "<div>\n",
       "<style scoped>\n",
       "    .dataframe tbody tr th:only-of-type {\n",
       "        vertical-align: middle;\n",
       "    }\n",
       "\n",
       "    .dataframe tbody tr th {\n",
       "        vertical-align: top;\n",
       "    }\n",
       "\n",
       "    .dataframe thead th {\n",
       "        text-align: right;\n",
       "    }\n",
       "</style>\n",
       "<table border=\"1\" class=\"dataframe\">\n",
       "  <thead>\n",
       "    <tr style=\"text-align: right;\">\n",
       "      <th></th>\n",
       "      <th>apple</th>\n",
       "      <th>banana</th>\n",
       "      <th>orange</th>\n",
       "      <th>tomato</th>\n",
       "      <th>grapes</th>\n",
       "      <th>corn</th>\n",
       "      <th>vegies</th>\n",
       "    </tr>\n",
       "  </thead>\n",
       "  <tbody>\n",
       "    <tr>\n",
       "      <th>personA</th>\n",
       "      <td>20</td>\n",
       "      <td>15.0</td>\n",
       "      <td>30.0</td>\n",
       "      <td>NaN</td>\n",
       "      <td>NaN</td>\n",
       "      <td>5</td>\n",
       "      <td>NaN</td>\n",
       "    </tr>\n",
       "    <tr>\n",
       "      <th>personB</th>\n",
       "      <td>10</td>\n",
       "      <td>NaN</td>\n",
       "      <td>NaN</td>\n",
       "      <td>17.0</td>\n",
       "      <td>35.0</td>\n",
       "      <td>7</td>\n",
       "      <td>24.0</td>\n",
       "    </tr>\n",
       "  </tbody>\n",
       "</table>\n",
       "</div>"
      ],
      "text/plain": [
       "         apple  banana  orange  tomato  grapes  corn  vegies\n",
       "personA     20    15.0    30.0     NaN     NaN     5     NaN\n",
       "personB     10     NaN     NaN    17.0    35.0     7    24.0"
      ]
     },
     "execution_count": 40,
     "metadata": {},
     "output_type": "execute_result"
    }
   ],
   "source": [
    "df['vegies'] = df['tomato'] + df['corn']\n",
    "df"
   ]
  },
  {
   "cell_type": "markdown",
   "id": "53b78f5c",
   "metadata": {},
   "source": [
    "NOTE: IF YOU WANT TO ADD THE VALUES FOR ONE MORE PERSON, MEANS YOU WANT TO ADD A NEW ROW. WE FIRST HAVE TO CREATE A NEW DATAFRAME WITH THOSE ROWS AND THEN APPEND IT TO THE ORIGINAL DATAFRAME"
   ]
  },
  {
   "cell_type": "code",
   "execution_count": 41,
   "id": "ce3fa9f9",
   "metadata": {},
   "outputs": [
    {
     "data": {
      "text/html": [
       "<div>\n",
       "<style scoped>\n",
       "    .dataframe tbody tr th:only-of-type {\n",
       "        vertical-align: middle;\n",
       "    }\n",
       "\n",
       "    .dataframe tbody tr th {\n",
       "        vertical-align: top;\n",
       "    }\n",
       "\n",
       "    .dataframe thead th {\n",
       "        text-align: right;\n",
       "    }\n",
       "</style>\n",
       "<table border=\"1\" class=\"dataframe\">\n",
       "  <thead>\n",
       "    <tr style=\"text-align: right;\">\n",
       "      <th></th>\n",
       "      <th>apple</th>\n",
       "      <th>banana</th>\n",
       "      <th>corn</th>\n",
       "      <th>orange</th>\n",
       "    </tr>\n",
       "  </thead>\n",
       "  <tbody>\n",
       "    <tr>\n",
       "      <th>personC</th>\n",
       "      <td>15</td>\n",
       "      <td>17</td>\n",
       "      <td>3</td>\n",
       "      <td>5</td>\n",
       "    </tr>\n",
       "  </tbody>\n",
       "</table>\n",
       "</div>"
      ],
      "text/plain": [
       "         apple  banana  corn  orange\n",
       "personC     15      17     3       5"
      ]
     },
     "execution_count": 41,
     "metadata": {},
     "output_type": "execute_result"
    }
   ],
   "source": [
    "new_person = [{'apple':15, 'banana': 17, 'corn': 3, 'orange':5}]\n",
    "new_df = pd.DataFrame(new_person, index=['personC'])\n",
    "new_df"
   ]
  },
  {
   "cell_type": "code",
   "execution_count": 42,
   "id": "6c0a494f",
   "metadata": {},
   "outputs": [
    {
     "data": {
      "text/html": [
       "<div>\n",
       "<style scoped>\n",
       "    .dataframe tbody tr th:only-of-type {\n",
       "        vertical-align: middle;\n",
       "    }\n",
       "\n",
       "    .dataframe tbody tr th {\n",
       "        vertical-align: top;\n",
       "    }\n",
       "\n",
       "    .dataframe thead th {\n",
       "        text-align: right;\n",
       "    }\n",
       "</style>\n",
       "<table border=\"1\" class=\"dataframe\">\n",
       "  <thead>\n",
       "    <tr style=\"text-align: right;\">\n",
       "      <th></th>\n",
       "      <th>apple</th>\n",
       "      <th>banana</th>\n",
       "      <th>orange</th>\n",
       "      <th>tomato</th>\n",
       "      <th>grapes</th>\n",
       "      <th>corn</th>\n",
       "      <th>vegies</th>\n",
       "    </tr>\n",
       "  </thead>\n",
       "  <tbody>\n",
       "    <tr>\n",
       "      <th>personA</th>\n",
       "      <td>20</td>\n",
       "      <td>15.0</td>\n",
       "      <td>30.0</td>\n",
       "      <td>NaN</td>\n",
       "      <td>NaN</td>\n",
       "      <td>5</td>\n",
       "      <td>NaN</td>\n",
       "    </tr>\n",
       "    <tr>\n",
       "      <th>personB</th>\n",
       "      <td>10</td>\n",
       "      <td>NaN</td>\n",
       "      <td>NaN</td>\n",
       "      <td>17.0</td>\n",
       "      <td>35.0</td>\n",
       "      <td>7</td>\n",
       "      <td>24.0</td>\n",
       "    </tr>\n",
       "    <tr>\n",
       "      <th>personC</th>\n",
       "      <td>15</td>\n",
       "      <td>17.0</td>\n",
       "      <td>5.0</td>\n",
       "      <td>NaN</td>\n",
       "      <td>NaN</td>\n",
       "      <td>3</td>\n",
       "      <td>NaN</td>\n",
       "    </tr>\n",
       "  </tbody>\n",
       "</table>\n",
       "</div>"
      ],
      "text/plain": [
       "         apple  banana  orange  tomato  grapes  corn  vegies\n",
       "personA     20    15.0    30.0     NaN     NaN     5     NaN\n",
       "personB     10     NaN     NaN    17.0    35.0     7    24.0\n",
       "personC     15    17.0     5.0     NaN     NaN     3     NaN"
      ]
     },
     "execution_count": 42,
     "metadata": {},
     "output_type": "execute_result"
    }
   ],
   "source": [
    "## WE CAN NOW ADD THE NEW ROW TO THE ORIGINAL DATAFRAME\n",
    "\n",
    "df = df.append(new_df)\n",
    "df"
   ]
  },
  {
   "cell_type": "code",
   "execution_count": 43,
   "id": "f8085b57",
   "metadata": {},
   "outputs": [
    {
     "data": {
      "text/html": [
       "<div>\n",
       "<style scoped>\n",
       "    .dataframe tbody tr th:only-of-type {\n",
       "        vertical-align: middle;\n",
       "    }\n",
       "\n",
       "    .dataframe tbody tr th {\n",
       "        vertical-align: top;\n",
       "    }\n",
       "\n",
       "    .dataframe thead th {\n",
       "        text-align: right;\n",
       "    }\n",
       "</style>\n",
       "<table border=\"1\" class=\"dataframe\">\n",
       "  <thead>\n",
       "    <tr style=\"text-align: right;\">\n",
       "      <th></th>\n",
       "      <th>banana</th>\n",
       "      <th>orange</th>\n",
       "      <th>tomato</th>\n",
       "      <th>grapes</th>\n",
       "      <th>corn</th>\n",
       "      <th>vegies</th>\n",
       "    </tr>\n",
       "    <tr>\n",
       "      <th>apple</th>\n",
       "      <th></th>\n",
       "      <th></th>\n",
       "      <th></th>\n",
       "      <th></th>\n",
       "      <th></th>\n",
       "      <th></th>\n",
       "    </tr>\n",
       "  </thead>\n",
       "  <tbody>\n",
       "    <tr>\n",
       "      <th>20</th>\n",
       "      <td>15.0</td>\n",
       "      <td>30.0</td>\n",
       "      <td>NaN</td>\n",
       "      <td>NaN</td>\n",
       "      <td>5</td>\n",
       "      <td>NaN</td>\n",
       "    </tr>\n",
       "    <tr>\n",
       "      <th>10</th>\n",
       "      <td>NaN</td>\n",
       "      <td>NaN</td>\n",
       "      <td>17.0</td>\n",
       "      <td>35.0</td>\n",
       "      <td>7</td>\n",
       "      <td>24.0</td>\n",
       "    </tr>\n",
       "    <tr>\n",
       "      <th>15</th>\n",
       "      <td>17.0</td>\n",
       "      <td>5.0</td>\n",
       "      <td>NaN</td>\n",
       "      <td>NaN</td>\n",
       "      <td>3</td>\n",
       "      <td>NaN</td>\n",
       "    </tr>\n",
       "  </tbody>\n",
       "</table>\n",
       "</div>"
      ],
      "text/plain": [
       "       banana  orange  tomato  grapes  corn  vegies\n",
       "apple                                              \n",
       "20       15.0    30.0     NaN     NaN     5     NaN\n",
       "10        NaN     NaN    17.0    35.0     7    24.0\n",
       "15       17.0     5.0     NaN     NaN     3     NaN"
      ]
     },
     "execution_count": 43,
     "metadata": {},
     "output_type": "execute_result"
    }
   ],
   "source": [
    "df = df.set_index('apple')\n",
    "df"
   ]
  },
  {
   "cell_type": "markdown",
   "id": "226b92b3",
   "metadata": {},
   "source": [
    "It is also possible to insert columns in the DataFrame using insert method to any location we want. The insert method allows us to specify:"
   ]
  },
  {
   "cell_type": "markdown",
   "id": "1246ed3c",
   "metadata": {},
   "source": [
    "the location,"
   ]
  },
  {
   "cell_type": "markdown",
   "id": "90cd29c9",
   "metadata": {},
   "source": [
    "label, and"
   ]
  },
  {
   "cell_type": "markdown",
   "id": "78226b40",
   "metadata": {},
   "source": [
    "the data"
   ]
  },
  {
   "cell_type": "markdown",
   "id": "ace80f6d",
   "metadata": {},
   "source": [
    "of the column that we want to add."
   ]
  },
  {
   "cell_type": "code",
   "execution_count": 44,
   "id": "e36f54dd",
   "metadata": {},
   "outputs": [
    {
     "data": {
      "text/html": [
       "<div>\n",
       "<style scoped>\n",
       "    .dataframe tbody tr th:only-of-type {\n",
       "        vertical-align: middle;\n",
       "    }\n",
       "\n",
       "    .dataframe tbody tr th {\n",
       "        vertical-align: top;\n",
       "    }\n",
       "\n",
       "    .dataframe thead th {\n",
       "        text-align: right;\n",
       "    }\n",
       "</style>\n",
       "<table border=\"1\" class=\"dataframe\">\n",
       "  <thead>\n",
       "    <tr style=\"text-align: right;\">\n",
       "      <th></th>\n",
       "      <th>banana</th>\n",
       "      <th>orange</th>\n",
       "      <th>tomato</th>\n",
       "      <th>grapes</th>\n",
       "      <th>corn</th>\n",
       "      <th>ginger</th>\n",
       "      <th>vegies</th>\n",
       "    </tr>\n",
       "    <tr>\n",
       "      <th>apple</th>\n",
       "      <th></th>\n",
       "      <th></th>\n",
       "      <th></th>\n",
       "      <th></th>\n",
       "      <th></th>\n",
       "      <th></th>\n",
       "      <th></th>\n",
       "    </tr>\n",
       "  </thead>\n",
       "  <tbody>\n",
       "    <tr>\n",
       "      <th>20</th>\n",
       "      <td>15.0</td>\n",
       "      <td>30.0</td>\n",
       "      <td>NaN</td>\n",
       "      <td>NaN</td>\n",
       "      <td>5</td>\n",
       "      <td>7</td>\n",
       "      <td>NaN</td>\n",
       "    </tr>\n",
       "    <tr>\n",
       "      <th>10</th>\n",
       "      <td>NaN</td>\n",
       "      <td>NaN</td>\n",
       "      <td>17.0</td>\n",
       "      <td>35.0</td>\n",
       "      <td>7</td>\n",
       "      <td>11</td>\n",
       "      <td>24.0</td>\n",
       "    </tr>\n",
       "    <tr>\n",
       "      <th>15</th>\n",
       "      <td>17.0</td>\n",
       "      <td>5.0</td>\n",
       "      <td>NaN</td>\n",
       "      <td>NaN</td>\n",
       "      <td>3</td>\n",
       "      <td>13</td>\n",
       "      <td>NaN</td>\n",
       "    </tr>\n",
       "  </tbody>\n",
       "</table>\n",
       "</div>"
      ],
      "text/plain": [
       "       banana  orange  tomato  grapes  corn  ginger  vegies\n",
       "apple                                                      \n",
       "20       15.0    30.0     NaN     NaN     5       7     NaN\n",
       "10        NaN     NaN    17.0    35.0     7      11    24.0\n",
       "15       17.0     5.0     NaN     NaN     3      13     NaN"
      ]
     },
     "execution_count": 44,
     "metadata": {},
     "output_type": "execute_result"
    }
   ],
   "source": [
    "df.insert(5, 'ginger', [7,11,13])\n",
    "# THE FIRST ARGUMENT IS LOCATION OF THE COLUMN\n",
    "# THE SECOND ARGUMENT IS THE LABEL FOR THE COLUMN\n",
    "# AND THE LAST ONE IS THE DATA FOR THE COLUMN\n",
    "df"
   ]
  },
  {
   "cell_type": "markdown",
   "id": "53a3c731",
   "metadata": {},
   "source": [
    "We can also delete the columns and rows using two methods:"
   ]
  },
  {
   "cell_type": "markdown",
   "id": "878fbdd8",
   "metadata": {},
   "source": [
    "1) pop"
   ]
  },
  {
   "cell_type": "markdown",
   "id": "c46ac45b",
   "metadata": {},
   "source": [
    "2) drop"
   ]
  },
  {
   "cell_type": "markdown",
   "id": "9b155b23",
   "metadata": {},
   "source": [
    "NOTE: The pop method allows us to delete columns while the drop method allows us to delete both rows and columns by using the access keyword."
   ]
  },
  {
   "cell_type": "code",
   "execution_count": 45,
   "id": "84cb5b1b",
   "metadata": {},
   "outputs": [
    {
     "data": {
      "text/html": [
       "<div>\n",
       "<style scoped>\n",
       "    .dataframe tbody tr th:only-of-type {\n",
       "        vertical-align: middle;\n",
       "    }\n",
       "\n",
       "    .dataframe tbody tr th {\n",
       "        vertical-align: top;\n",
       "    }\n",
       "\n",
       "    .dataframe thead th {\n",
       "        text-align: right;\n",
       "    }\n",
       "</style>\n",
       "<table border=\"1\" class=\"dataframe\">\n",
       "  <thead>\n",
       "    <tr style=\"text-align: right;\">\n",
       "      <th></th>\n",
       "      <th>banana</th>\n",
       "      <th>orange</th>\n",
       "      <th>tomato</th>\n",
       "      <th>grapes</th>\n",
       "      <th>corn</th>\n",
       "      <th>vegies</th>\n",
       "    </tr>\n",
       "    <tr>\n",
       "      <th>apple</th>\n",
       "      <th></th>\n",
       "      <th></th>\n",
       "      <th></th>\n",
       "      <th></th>\n",
       "      <th></th>\n",
       "      <th></th>\n",
       "    </tr>\n",
       "  </thead>\n",
       "  <tbody>\n",
       "    <tr>\n",
       "      <th>20</th>\n",
       "      <td>15.0</td>\n",
       "      <td>30.0</td>\n",
       "      <td>NaN</td>\n",
       "      <td>NaN</td>\n",
       "      <td>5</td>\n",
       "      <td>NaN</td>\n",
       "    </tr>\n",
       "    <tr>\n",
       "      <th>10</th>\n",
       "      <td>NaN</td>\n",
       "      <td>NaN</td>\n",
       "      <td>17.0</td>\n",
       "      <td>35.0</td>\n",
       "      <td>7</td>\n",
       "      <td>24.0</td>\n",
       "    </tr>\n",
       "    <tr>\n",
       "      <th>15</th>\n",
       "      <td>17.0</td>\n",
       "      <td>5.0</td>\n",
       "      <td>NaN</td>\n",
       "      <td>NaN</td>\n",
       "      <td>3</td>\n",
       "      <td>NaN</td>\n",
       "    </tr>\n",
       "  </tbody>\n",
       "</table>\n",
       "</div>"
      ],
      "text/plain": [
       "       banana  orange  tomato  grapes  corn  vegies\n",
       "apple                                              \n",
       "20       15.0    30.0     NaN     NaN     5     NaN\n",
       "10        NaN     NaN    17.0    35.0     7    24.0\n",
       "15       17.0     5.0     NaN     NaN     3     NaN"
      ]
     },
     "execution_count": 45,
     "metadata": {},
     "output_type": "execute_result"
    }
   ],
   "source": [
    "df.pop('ginger')\n",
    "df"
   ]
  },
  {
   "cell_type": "code",
   "execution_count": 46,
   "id": "1c7d2fab",
   "metadata": {},
   "outputs": [
    {
     "data": {
      "text/html": [
       "<div>\n",
       "<style scoped>\n",
       "    .dataframe tbody tr th:only-of-type {\n",
       "        vertical-align: middle;\n",
       "    }\n",
       "\n",
       "    .dataframe tbody tr th {\n",
       "        vertical-align: top;\n",
       "    }\n",
       "\n",
       "    .dataframe thead th {\n",
       "        text-align: right;\n",
       "    }\n",
       "</style>\n",
       "<table border=\"1\" class=\"dataframe\">\n",
       "  <thead>\n",
       "    <tr style=\"text-align: right;\">\n",
       "      <th></th>\n",
       "      <th>banana</th>\n",
       "      <th>tomato</th>\n",
       "      <th>corn</th>\n",
       "      <th>vegies</th>\n",
       "    </tr>\n",
       "    <tr>\n",
       "      <th>apple</th>\n",
       "      <th></th>\n",
       "      <th></th>\n",
       "      <th></th>\n",
       "      <th></th>\n",
       "    </tr>\n",
       "  </thead>\n",
       "  <tbody>\n",
       "    <tr>\n",
       "      <th>20</th>\n",
       "      <td>15.0</td>\n",
       "      <td>NaN</td>\n",
       "      <td>5</td>\n",
       "      <td>NaN</td>\n",
       "    </tr>\n",
       "    <tr>\n",
       "      <th>10</th>\n",
       "      <td>NaN</td>\n",
       "      <td>17.0</td>\n",
       "      <td>7</td>\n",
       "      <td>24.0</td>\n",
       "    </tr>\n",
       "    <tr>\n",
       "      <th>15</th>\n",
       "      <td>17.0</td>\n",
       "      <td>NaN</td>\n",
       "      <td>3</td>\n",
       "      <td>NaN</td>\n",
       "    </tr>\n",
       "  </tbody>\n",
       "</table>\n",
       "</div>"
      ],
      "text/plain": [
       "       banana  tomato  corn  vegies\n",
       "apple                              \n",
       "20       15.0     NaN     5     NaN\n",
       "10        NaN    17.0     7    24.0\n",
       "15       17.0     NaN     3     NaN"
      ]
     },
     "execution_count": 46,
     "metadata": {},
     "output_type": "execute_result"
    }
   ],
   "source": [
    "df = df.drop(['grapes', 'orange'], axis=1)   # AXIS = 1 MEANS WE ARE REMOVING COLUMNS\n",
    "df"
   ]
  },
  {
   "cell_type": "markdown",
   "id": "7ff4ab79",
   "metadata": {},
   "source": [
    "To change the name of any row or any column, we use the rename method"
   ]
  },
  {
   "cell_type": "code",
   "execution_count": 47,
   "id": "8ce4b06a",
   "metadata": {},
   "outputs": [
    {
     "data": {
      "text/html": [
       "<div>\n",
       "<style scoped>\n",
       "    .dataframe tbody tr th:only-of-type {\n",
       "        vertical-align: middle;\n",
       "    }\n",
       "\n",
       "    .dataframe tbody tr th {\n",
       "        vertical-align: top;\n",
       "    }\n",
       "\n",
       "    .dataframe thead th {\n",
       "        text-align: right;\n",
       "    }\n",
       "</style>\n",
       "<table border=\"1\" class=\"dataframe\">\n",
       "  <thead>\n",
       "    <tr style=\"text-align: right;\">\n",
       "      <th></th>\n",
       "      <th>pineapple</th>\n",
       "      <th>tomato</th>\n",
       "      <th>corn</th>\n",
       "      <th>vegies</th>\n",
       "    </tr>\n",
       "    <tr>\n",
       "      <th>apple</th>\n",
       "      <th></th>\n",
       "      <th></th>\n",
       "      <th></th>\n",
       "      <th></th>\n",
       "    </tr>\n",
       "  </thead>\n",
       "  <tbody>\n",
       "    <tr>\n",
       "      <th>20</th>\n",
       "      <td>15.0</td>\n",
       "      <td>NaN</td>\n",
       "      <td>5</td>\n",
       "      <td>NaN</td>\n",
       "    </tr>\n",
       "    <tr>\n",
       "      <th>10</th>\n",
       "      <td>NaN</td>\n",
       "      <td>17.0</td>\n",
       "      <td>7</td>\n",
       "      <td>24.0</td>\n",
       "    </tr>\n",
       "    <tr>\n",
       "      <th>15</th>\n",
       "      <td>17.0</td>\n",
       "      <td>NaN</td>\n",
       "      <td>3</td>\n",
       "      <td>NaN</td>\n",
       "    </tr>\n",
       "  </tbody>\n",
       "</table>\n",
       "</div>"
      ],
      "text/plain": [
       "       pineapple  tomato  corn  vegies\n",
       "apple                                 \n",
       "20          15.0     NaN     5     NaN\n",
       "10           NaN    17.0     7    24.0\n",
       "15          17.0     NaN     3     NaN"
      ]
     },
     "execution_count": 47,
     "metadata": {},
     "output_type": "execute_result"
    }
   ],
   "source": [
    "df  = df.rename(columns={'banana':'pineapple'})\n",
    "df"
   ]
  },
  {
   "cell_type": "markdown",
   "id": "c97d97a6",
   "metadata": {},
   "source": [
    "Now let's change the name of the row\n",
    "\n",
    "\n"
   ]
  },
  {
   "cell_type": "code",
   "execution_count": 48,
   "id": "16d67381",
   "metadata": {},
   "outputs": [
    {
     "data": {
      "text/html": [
       "<div>\n",
       "<style scoped>\n",
       "    .dataframe tbody tr th:only-of-type {\n",
       "        vertical-align: middle;\n",
       "    }\n",
       "\n",
       "    .dataframe tbody tr th {\n",
       "        vertical-align: top;\n",
       "    }\n",
       "\n",
       "    .dataframe thead th {\n",
       "        text-align: right;\n",
       "    }\n",
       "</style>\n",
       "<table border=\"1\" class=\"dataframe\">\n",
       "  <thead>\n",
       "    <tr style=\"text-align: right;\">\n",
       "      <th></th>\n",
       "      <th>pineapple</th>\n",
       "      <th>tomato</th>\n",
       "      <th>corn</th>\n",
       "      <th>vegies</th>\n",
       "    </tr>\n",
       "    <tr>\n",
       "      <th>apple</th>\n",
       "      <th></th>\n",
       "      <th></th>\n",
       "      <th></th>\n",
       "      <th></th>\n",
       "    </tr>\n",
       "  </thead>\n",
       "  <tbody>\n",
       "    <tr>\n",
       "      <th>20</th>\n",
       "      <td>15.0</td>\n",
       "      <td>NaN</td>\n",
       "      <td>5</td>\n",
       "      <td>NaN</td>\n",
       "    </tr>\n",
       "    <tr>\n",
       "      <th>10</th>\n",
       "      <td>NaN</td>\n",
       "      <td>17.0</td>\n",
       "      <td>7</td>\n",
       "      <td>24.0</td>\n",
       "    </tr>\n",
       "    <tr>\n",
       "      <th>15</th>\n",
       "      <td>17.0</td>\n",
       "      <td>NaN</td>\n",
       "      <td>3</td>\n",
       "      <td>NaN</td>\n",
       "    </tr>\n",
       "  </tbody>\n",
       "</table>\n",
       "</div>"
      ],
      "text/plain": [
       "       pineapple  tomato  corn  vegies\n",
       "apple                                 \n",
       "20          15.0     NaN     5     NaN\n",
       "10           NaN    17.0     7    24.0\n",
       "15          17.0     NaN     3     NaN"
      ]
     },
     "execution_count": 48,
     "metadata": {},
     "output_type": "execute_result"
    }
   ],
   "source": [
    "df  = df.rename(index={'personA':'A'})\n",
    "df"
   ]
  },
  {
   "cell_type": "markdown",
   "id": "a06bb16c",
   "metadata": {},
   "source": [
    "We can also set index to be one of the existing columns of the DataFrame"
   ]
  },
  {
   "cell_type": "code",
   "execution_count": 49,
   "id": "27532607",
   "metadata": {},
   "outputs": [
    {
     "data": {
      "text/html": [
       "<div>\n",
       "<style scoped>\n",
       "    .dataframe tbody tr th:only-of-type {\n",
       "        vertical-align: middle;\n",
       "    }\n",
       "\n",
       "    .dataframe tbody tr th {\n",
       "        vertical-align: top;\n",
       "    }\n",
       "\n",
       "    .dataframe thead th {\n",
       "        text-align: right;\n",
       "    }\n",
       "</style>\n",
       "<table border=\"1\" class=\"dataframe\">\n",
       "  <thead>\n",
       "    <tr style=\"text-align: right;\">\n",
       "      <th></th>\n",
       "      <th>pineapple</th>\n",
       "      <th>corn</th>\n",
       "      <th>vegies</th>\n",
       "    </tr>\n",
       "    <tr>\n",
       "      <th>tomato</th>\n",
       "      <th></th>\n",
       "      <th></th>\n",
       "      <th></th>\n",
       "    </tr>\n",
       "  </thead>\n",
       "  <tbody>\n",
       "    <tr>\n",
       "      <th>NaN</th>\n",
       "      <td>15.0</td>\n",
       "      <td>5</td>\n",
       "      <td>NaN</td>\n",
       "    </tr>\n",
       "    <tr>\n",
       "      <th>17.0</th>\n",
       "      <td>NaN</td>\n",
       "      <td>7</td>\n",
       "      <td>24.0</td>\n",
       "    </tr>\n",
       "    <tr>\n",
       "      <th>NaN</th>\n",
       "      <td>17.0</td>\n",
       "      <td>3</td>\n",
       "      <td>NaN</td>\n",
       "    </tr>\n",
       "  </tbody>\n",
       "</table>\n",
       "</div>"
      ],
      "text/plain": [
       "        pineapple  corn  vegies\n",
       "tomato                         \n",
       "NaN          15.0     5     NaN\n",
       "17.0          NaN     7    24.0\n",
       "NaN          17.0     3     NaN"
      ]
     },
     "execution_count": 49,
     "metadata": {},
     "output_type": "execute_result"
    }
   ],
   "source": [
    "df = df.set_index('tomato')\n",
    "df"
   ]
  },
  {
   "cell_type": "markdown",
   "id": "f0b9f51f",
   "metadata": {},
   "source": [
    "Now we have the column tomato as our index label"
   ]
  },
  {
   "cell_type": "code",
   "execution_count": null,
   "id": "6a40118e",
   "metadata": {},
   "outputs": [],
   "source": []
  }
 ],
 "metadata": {
  "kernelspec": {
   "display_name": "Python 3",
   "language": "python",
   "name": "python3"
  },
  "language_info": {
   "codemirror_mode": {
    "name": "ipython",
    "version": 3
   },
   "file_extension": ".py",
   "mimetype": "text/x-python",
   "name": "python",
   "nbconvert_exporter": "python",
   "pygments_lexer": "ipython3",
   "version": "3.8.8"
  }
 },
 "nbformat": 4,
 "nbformat_minor": 5
}
