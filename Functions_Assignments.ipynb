{
  "nbformat": 4,
  "nbformat_minor": 0,
  "metadata": {
    "colab": {
      "name": "Untitled6.ipynb",
      "provenance": []
    },
    "kernelspec": {
      "name": "python3",
      "display_name": "Python 3"
    },
    "language_info": {
      "name": "python"
    }
  },
  "cells": [
    {
      "cell_type": "markdown",
      "source": [
        "Assignments"
      ],
      "metadata": {
        "id": "YaV0DPcZbUzp"
      }
    },
    {
      "cell_type": "code",
      "source": [
        "#1. Create a function with the name - Myname and print your name inside the function.\n",
        "def Myname():\n",
        "  print(\"Abhishek Kumar Sahu\")"
      ],
      "metadata": {
        "id": "dkDwxVlibXUt"
      },
      "execution_count": 4,
      "outputs": []
    },
    {
      "cell_type": "code",
      "source": [
        "#2. Call the above function.\n",
        "def Myname():\n",
        "  print(\"Abhishek Kumar Sahu\")\n",
        "\n",
        "Myname()"
      ],
      "metadata": {
        "colab": {
          "base_uri": "https://localhost:8080/"
        },
        "id": "KShpI0ojcJ6S",
        "outputId": "95029ede-5f46-43c8-e942-18cfa593c129"
      },
      "execution_count": 5,
      "outputs": [
        {
          "output_type": "stream",
          "name": "stdout",
          "text": [
            "Abhishek Kumar Sahu\n"
          ]
        }
      ]
    },
    {
      "cell_type": "markdown",
      "source": [
        "3. What is the difference between parameter and argument?\n",
        "Parameters-A Parameter is the variable listed inside the parenthesis in the function defintion.\n",
        "Argument-It is the value that sent to the function when it is called."
      ],
      "metadata": {
        "id": "owo42yJmcfCv"
      }
    },
    {
      "cell_type": "code",
      "source": [
        "#4. Create a function with the name - myfunction\n",
        "#pass 2 parameters city, state\n",
        "#pass 2 argumentes -  your city and state name \n",
        "def my_function(Jamshedpur,Jharkhand):\n",
        " print(\"Jamshedpur\"+\" \"+\"Jharkhand\")\n",
        "my_function(\"Jamshedpur\",\"Jharkhand\")"
      ],
      "metadata": {
        "colab": {
          "base_uri": "https://localhost:8080/"
        },
        "id": "W1lMFCxQdf3r",
        "outputId": "b49dc93f-3b55-4c9b-db12-ed2f6b3d5a20"
      },
      "execution_count": 12,
      "outputs": [
        {
          "output_type": "stream",
          "name": "stdout",
          "text": [
            "Jamshedpur Jharkhand\n"
          ]
        }
      ]
    }
  ]
}